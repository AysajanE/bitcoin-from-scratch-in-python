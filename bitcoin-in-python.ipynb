{
 "cells": [
  {
   "cell_type": "markdown",
   "id": "99a10fbd-ff05-49d3-a907-c4a4be6035d9",
   "metadata": {},
   "source": [
    "# Bitcoin Tour in Python\n",
    "\n",
    "This is a re-implementation of Andrej Karpathy's bitcoin implementation in python that can be found in the link below. All codes are his and I just re-did what he did in June 2021.\n",
    "\n",
    "Reference: http://karpathy.github.io/2021/06/21/blockchain/"
   ]
  },
  {
   "cell_type": "markdown",
   "id": "8662d546-a4bd-47db-b755-125238ea5c0c",
   "metadata": {},
   "source": [
    "## Generate A Crypto Identity\n",
    "In order to navigate on blockchain, we first need to create a new cryptographic identity, which is just a private, public key pair.\n",
    "This is essentially digital signature scheme. The one particular scheme used by Bitcoin is called Elliptic Curve Digital Signature Algorithm (ECDSA). The following resource provides an excellent introduction on the subject.\n",
    "https://andrea.corbellini.name/2015/05/17/elliptic-curve-cryptography-a-gentle-introduction/\n",
    "The specific curve used in Bitcoin is secp256k1. The following stack exchange explains it really well:\n",
    "https://bitcoin.stackexchange.com/questions/21907/what-does-the-curve-used-in-bitcoin-secp256k1-look-like\n",
    "\n",
    "The specific values are specified here: https://en.bitcoin.it/wiki/Secp256k1"
   ]
  },
  {
   "cell_type": "markdown",
   "id": "c99ad319-0d91-4a2f-b525-3b528a7bd906",
   "metadata": {},
   "source": [
    "Python dataclass object: https://docs.python.org/3/library/dataclasses.html"
   ]
  },
  {
   "cell_type": "code",
   "execution_count": 21,
   "id": "ec6dac32-9ec9-48cd-bfdc-6c98d47ff938",
   "metadata": {},
   "outputs": [],
   "source": [
    "from IPython.display import Latex"
   ]
  },
  {
   "cell_type": "code",
   "execution_count": 54,
   "id": "08b2da38-46b5-4a85-a007-30fcff76cec6",
   "metadata": {},
   "outputs": [],
   "source": [
    "from __future__ import annotations # PEP 563: Postponed Evaluation of Annotations\n",
    "from dataclasses import dataclass # https://docs.python.org/3/library/dataclasses.html\n",
    "\n",
    "@dataclass\n",
    "class Curve:\n",
    "    \"\"\"\n",
    "    Elliptic Curve over the field of integers modulo a price.\n",
    "    Points on the curve satisfy y^2 = x^3 + a*x + b (mod p).\n",
    "    \"\"\"\n",
    "    \n",
    "    p: int # the prime modulus of the finite field\n",
    "    a: int\n",
    "    b: int\n",
    "    \n",
    "# secp256k1 uses a = 0, b = 7, so we're dealing with a cubic curve y^2 = x^3 + 7 (mod p)\n",
    "bitcoin_curve = Curve(\n",
    "    p = 0xFFFFFFFFFFFFFFFFFFFFFFFFFFFFFFFFFFFFFFFFFFFFFFFFFFFFFFFEFFFFFC2F,\n",
    "    a = 0x0000000000000000000000000000000000000000000000000000000000000000, # a = 0\n",
    "    b = 0x0000000000000000000000000000000000000000000000000000000000000007, # b = 7\n",
    ")"
   ]
  },
  {
   "cell_type": "markdown",
   "id": "b188413b-f6f0-4fcf-bfd0-871c9232b64a",
   "metadata": {},
   "source": [
    "Now, we have an actual curve. Next we need a Generator point, which is some fixed \"starting point\" on the curve's cycle. \n",
    "Imagine we have a curve. In order to \"random walk\" around the curve, we have to start from somewhere. \n",
    "The generator is a publicly known and agreed upon constant:"
   ]
  },
  {
   "cell_type": "code",
   "execution_count": 3,
   "id": "c5a90e54-5657-4a8a-a45e-578955e56711",
   "metadata": {},
   "outputs": [
    {
     "name": "stdout",
     "output_type": "stream",
     "text": [
      "Generator IS on the curve:  True\n",
      "Apparently, a totally random point is not:  False\n"
     ]
    }
   ],
   "source": [
    "@dataclass\n",
    "class Point:\n",
    "    \"\"\" An integer point (x,y) on a Curve \"\"\"\n",
    "    curve: Curve\n",
    "    x: int\n",
    "    y: int\n",
    "    \n",
    "G = Point(\n",
    "    bitcoin_curve,\n",
    "    x = 0x79BE667EF9DCBBAC55A06295CE870B07029BFCDB2DCE28D959F2815B16F81798,\n",
    "    y = 0x483ada7726a3c4655da4fbfc0e1108a8fd17b448a68554199c47d08ffb10d4b8,\n",
    ")\n",
    "\n",
    "# We can verify that the generator point is indeed on the curve\n",
    "print(\"Generator IS on the curve: \", (G.y**2 - (G.x**3 + 7)) % bitcoin_curve.p == 0)\n",
    "\n",
    "# We expect some random points will not be on the curve, _MOST_ likely\n",
    "import random\n",
    "random.seed(1527)\n",
    "x = random.randrange(0, bitcoin_curve.p)\n",
    "y = random.randrange(0, bitcoin_curve.p)\n",
    "print(\"Apparently, a totally random point is not: \", (y**2 - x**3 - 7) % bitcoin_curve.p == 0)"
   ]
  },
  {
   "cell_type": "markdown",
   "id": "63593e67-fd07-4ae2-8bfd-0f8c788e20fc",
   "metadata": {},
   "source": [
    "The elliptic curve parameters over F_P associated with a Koblitz curve secp256k1 are specified by the sextuple T = (p,a,b,G,n,h).\n",
    "Thus, we need to pre-specify those parameter values for secp256k1 before we can use one."
   ]
  },
  {
   "cell_type": "code",
   "execution_count": 4,
   "id": "7a4dad99-287f-47d6-954f-f30b97dda48b",
   "metadata": {},
   "outputs": [],
   "source": [
    "@dataclass\n",
    "class Generator:\n",
    "    \"\"\"\n",
    "    A generator over a curve: an initial point and the (pre-computed) order\n",
    "    \"\"\"\n",
    "    G: Point    # a generator point\n",
    "    n: int      # the order of the generator point, so 0*G = n*G = INF. \n",
    "    # Essentially, after n steps, I go back to where I start. In a more formal term, order is the number of all its points.\n",
    "    \n",
    "bitcoin_gen = Generator(\n",
    "    G = G,\n",
    "    # the order of G is known and can be mathematically derived\n",
    "    n = 0xFFFFFFFFFFFFFFFFFFFFFFFFFFFFFFFEBAAEDCE6AF48A03BBFD25E8CD0364141,\n",
    ")"
   ]
  },
  {
   "cell_type": "markdown",
   "id": "b3ed29f5-9182-4edd-a0bd-cf74834880a5",
   "metadata": {},
   "source": [
    "So far we have defined some data structures and filled them with some publicly known constants related to elliptic curves used in Bitcoin.\n",
    "Now, we are ready to generate our own private key. The private key is simply a random integer that satisfies 1 <= key < n (recall n is the \n",
    "                                                                                                                          order of G):"
   ]
  },
  {
   "cell_type": "code",
   "execution_count": 6,
   "id": "fea98412-5e5e-4f08-8641-f66402edae7d",
   "metadata": {},
   "outputs": [
    {
     "name": "stdout",
     "output_type": "stream",
     "text": [
      "5703626118991814761598925171845964482230864\n"
     ]
    }
   ],
   "source": [
    "# secret_key = random.randrange(1, bitcoin_gen.n) # this is how you _would_ do it\n",
    "secret_key = int.from_bytes(b'Aysajan is cool :P', 'big') # For the purpose of reproducibility, this is how I will do it\n",
    "assert 1 <= secret_key < bitcoin_gen.n\n",
    "print(secret_key)"
   ]
  },
  {
   "cell_type": "markdown",
   "id": "df8af36a-9b45-48bb-bb0f-befb0b2a1c95",
   "metadata": {},
   "source": [
    "---\n",
    "The secret_key generated is our private key. As mentioned, it is just a random integer that satisfies 1 <= key < n.\n",
    "anyone who knows it can control all of the funds you own on the Bitcoin blockchain.\n",
    "\n",
    "Next, we are going to generate a public key. The public key is the point on the curve that results from adding the generator point\n",
    "to itself secret_key times, i.e., we have: public_key = G + G + (secret_key times) + G = secret_key * G. If we look at this form carefully,\n",
    "we know that the point G is a point on curve and specified by a tuple (x,y), but the secret key is an integer. Therefore, public key is an \n",
    "(x,y) tuple public key, again a Point on the Curve. This is where we need to actually define the Addition operator on an elliptic curve.\n",
    "\n",
    "First we need to understand _greatest common divisor_, or gcd. GCD is the largest positive integer that divides each of the integers. For instance, the gcd for 8 and 12 is 4, that is, gcd(8, 12) = 4. Then here comes __Euclidean Algorithm__, which is an efficient method to compute the greatest common divisor (GCD) of two integers, the largest integer that divides them both without a remainder.\n",
    "\n",
    "[__Extended Euclidean Algorithm__](https://en.wikipedia.org/wiki/Extended_Euclidean_algorithm) is an extension to the Euclidean algorithm. It computes, in addition to the greatest common divisor (gcd) of integers a and b, also the coefficients of Bezout's identity, which are integers x and y such that\n",
    "\n",
    "ax + by = gcd(a,b)"
   ]
  },
  {
   "cell_type": "markdown",
   "id": "4b4d5f50-df41-41d6-b362-29ce89316836",
   "metadata": {},
   "source": [
    "---\n",
    "Next, let's review some of the concepts in modular arithmetic before jumping into the code in the next cell.\n",
    "\n",
    "Reference: https://www.khanacademy.org/computing/computer-science/cryptography/modarithmetic/a/what-is-modular-arithmetic\n",
    "\n",
    "When we divide two integers, we will have an expression like this:\n",
    "    $$\\dfrac{A}{B} = Q \\text{ remainder}  R $$\n",
    "In this expression,\n",
    "A is the dividend\n",
    "B is the divisor\n",
    "Q is the quotient\n",
    "R is the remainder\n",
    "\n",
    "Sometimes we are only interested in the remainder R and there is specific modular operator (abbreviated as mod) for such purpose. \n",
    "Using the same A, B, Q, and R as above, we would have __A mod B = R__\n",
    "\n",
    "We can say _A modulo B is R_. Where B is referred to as the _modulus_. For example:\n",
    "$$\\dfrac{13}{5}=2 \\text{ remainder } 3$$\n",
    "$$13 \\text{ mod } 5 = 3$$"
   ]
  },
  {
   "cell_type": "markdown",
   "id": "494e39f5-a429-460e-ae79-b3ac261873f5",
   "metadata": {},
   "source": [
    "---\n",
    "One expression that I see a lot is something like this:\n",
    "$$A\\equiv B(\\text{mod }C)$$\n",
    "Let's try to understand what it means. First it reads as __A is congruent to B modulo C__. It is kind cumbersome to read.\n",
    "We first look at some numbers:\n",
    "\n",
    "Set 1: {1, 6, 11, 16, 21, 26}\n",
    "Set 2: {0, 5, 10, 15, 20, 25}\n",
    "\n",
    "The common thing about set 1 is that every number in the set mod 5 is equal to 1. Similarly, every number in set 2 mod 5 is equal to 0.\n",
    "In such cases, we say that the numbers in set 1 is in the same equivalence class. The numbers in set 2 is also in the same equivalence class.\n",
    "Now how do we express mathematically this kind of relationships? Here comes __congruence modulo__:\n",
    "$$A \\equiv B (\\text{mod }C)$$\n",
    "\n",
    "This expression is pronounced as _A is congruent to B modulo C_. Let's examine this expression closer. It has three componets:\n",
    "1. $\\equiv$ is the symbol for congruence, which means the values of A and B are in the same __equivalence class__.\n",
    "2. (mod C) tells us what operation we applied to A and B.\n",
    "3. When we have both of these, we call \"$\\equiv$\" __congruence modulo C__.\n",
    "\n",
    "Let's look at one specific example to better understand this:\n",
    "$$17 \\equiv 7 (mod 5)$$\n",
    "\n",
    "- 17 mod 5 = 2\n",
    "- 7 mod 5 = 2\n",
    "\n",
    "Both 17 and 7 are in the same equivalence class. Be careful that this is different from A mod C: $17 \\neq 7 \\text{ mod }5$.\n",
    "\n",
    "Okay, enough of this. Let's look at _modular multiplicative inverse_."
   ]
  },
  {
   "cell_type": "markdown",
   "id": "9a76c4bc-3428-4431-9d39-fa4c83c50226",
   "metadata": {},
   "source": [
    "---\n",
    "In mathematics, a modular multiplicative inverse of an integer $a$ is an integer such that the product $ax$ is congruent to 1\n",
    "with resepct to modulus $m$. Using the standard notation we used above, it can written as\n",
    "$$ax \\equiv 1(\\text{mod }m)$$\n",
    "\n",
    "Relating this expression to the inv function defined below. When $ax$ and 1 is in the same equivalence class with respect to modulus $p$, it implies\n",
    "that $ax \\text{ mod } p = 1 \\text{ mod } p$. We know that $1 \\text{ mod }p = 1$, therefore $ax \\text{ mod }p = 1$ as well, which can be\n",
    "re-written as $ax \\% p = 1$ where $x$ is modular multiplicative inverse of $a$. This logic is implemented in the function _inv_."
   ]
  },
  {
   "cell_type": "code",
   "execution_count": 17,
   "id": "70491cb8-0ab8-4d86-ab25-80e18b829b3c",
   "metadata": {},
   "outputs": [],
   "source": [
    "INF = Point(None, None, None) # Special point at \"infinity\", kind of like a zero.\n",
    "\n",
    "def extended_euclidean_algorithm(a, b):\n",
    "    \"\"\"\n",
    "    Returns (gcd, x, y) s.t. a * x + b * y == gcd\n",
    "    This function implements the extended Euclidean \n",
    "    algorithm and runs in O(log b) in the worst case,\n",
    "    taken from Wikipedia.\n",
    "    \"\"\"\n",
    "    \n",
    "    old_r, r = a, b\n",
    "    old_s, s = 1, 0\n",
    "    old_t, t = 0, 1\n",
    "    while r != 0:\n",
    "        quotient = old_r // r # When we divide 12 by 2, we get 6. In this example, 12 is called divident, 2 is divisor, and 6 is the quotient\n",
    "        old_r, r = r, old_r - quotient * r\n",
    "        old_s, s = s, old_s - quotient * s\n",
    "        old_t, t = t, old_t - quotient * t\n",
    "    return old_r, old_s, old_t\n",
    "\n",
    "def inv(n, p):\n",
    "    \"\"\"Returns modular multiplicate inverse m s.t. (n * m) % p == 1\"\"\"\n",
    "    gcd, x, y = extended_euclidean_algorithm(n, p)\n",
    "    return x % p\n",
    "\n",
    "#\n",
    "def elliptic_curve_addition(self, other: Point) -> Point:\n",
    "    # handle special case of P + 0 = 0 + P = P\n",
    "    # Keep in mind here that INF is a special point: INF = Point(None, None, None)\n",
    "    if self == INF:\n",
    "        return other\n",
    "    if other == INF:\n",
    "        return self\n",
    "    # handle special case of P + (-P) = 0\n",
    "    if self.x == other.x and self.y != other.y:\n",
    "        return INF\n",
    "    # compute the \"slope\"\n",
    "    # The case where P = Q\n",
    "    if self.x == other.x: # (self.y = other.y is guaranteed too per above check)\n",
    "        m = (3 * self.x**2 + self.curve.a) * inv(2 * self.y, self.curve.p)\n",
    "    else:\n",
    "        m = (self.y - other.y) * inv(self.x - other.x, self.curve.p)\n",
    "    # compute the new point\n",
    "    rx = (m**2 - self.x - other.x) % self.curve.p\n",
    "    ry = (-(m*(rx - self.x) + self.y)) % self.curve.p\n",
    "    return Point(self.curve, rx, ry)\n",
    "\n",
    "Point.__add__ = elliptic_curve_addition # Monkey patch addition into the Point class"
   ]
  },
  {
   "cell_type": "markdown",
   "id": "d1c9e4db-941b-44ee-938b-a330887f100b",
   "metadata": {},
   "source": [
    "---\n",
    "Okay, we need to stop and try to understand this addition function here. I will use one of the posts from Andrea Corbellini to\n",
    "understand what is going on here.\n",
    "\n",
    "Source: https://andrea.corbellini.name/2015/05/17/elliptic-curve-cryptography-a-gentle-introduction/\n",
    "\n",
    "ECC represents __Elliptic Curve Cryptography__. What is an elliptic curve? An elliptic curve is a set of points described by the equation:\n",
    "\n",
    "$$y^2 = x^3 + ax + b$$\n",
    "where $4a^3+27b^2\\neq 0$. This equation is called _Weierstrass normal form_ for elliptic curves. One feature of elliptic curves is that\n",
    "they are symmetric about the x-axis.\n",
    "\n",
    "We also need a point at __infinity__ (also known as ideal point) to be part of the curve. \n",
    "This infinity point is denoted by the symbol 0 (zero).\n",
    "\n",
    "Now, we can explicitly express an elliptic curve formally:\n",
    "$$\\{(x, y)\\in \\mathbb{R}^2 | y^2 = x^3 + ax + b, 4a^3+27b^2\\neq 0\\} \\cup \\{0\\}$$\n",
    "\n",
    "There is a _the group law for elliptic curves_ that defines a group over an elliptic curves. It says:\n",
    "- the elements of the group are the points of an elliptic curve;\n",
    "- the __identity element__ is the point at infinity 0;\n",
    "- the __inverse__ of a point P is the one symmetric about the x-axis;\n",
    "- __addition__ is given by the following rule: __given three aligned, non-zero points $P$, $Q$, and $R$, their sum is $P+Q+R=0$__.\n",
    "\n",
    "For the last point, I think we might need a definition:\n",
    "If three points lie on an elliptic curve E and at the same time also lie on the straight line then their sum is __DEFINED__ to be '0'\n",
    "the point _at infinity or zero point_.\n",
    "\n",
    "Then using this definition, how do we find the sum of three points on an elliptic curve? The logic works as follows:\n",
    "1. First we take two points, let's say $P$ and $Q$ and draw a line that passes throught these two points.\n",
    "2. This line will intersect a third point on the curve, let's say $R$.\n",
    "3. We take the inverse of this point, $-R$, we have found the result of $P+Q$."
   ]
  },
  {
   "cell_type": "markdown",
   "id": "4355d935-1844-4332-9123-2c3a88f7bf9b",
   "metadata": {},
   "source": [
    "---\n",
    "Now let's try to generate some prive-public key pairs. Again recap what we have learned so far. Private key or secret key is just a random\n",
    "integer. Public key is a point on an elliptic curve. Since public curve is a point, it has x-coordinate value and y-coordinate value.\n",
    "\n",
    "Public key = secret_key * G = G + G + secret_key number of times + G.\n",
    "\n",
    "For instance, if sk = 1, then public_key = G; if sk = 5, then public_key = G + G + G + G + G, etc."
   ]
  },
  {
   "cell_type": "code",
   "execution_count": 26,
   "id": "ea2d2aa8-af84-4bda-a923-39703a4c2b46",
   "metadata": {},
   "outputs": [
    {
     "name": "stdout",
     "output_type": "stream",
     "text": [
      "secret key: 1\n",
      " public key: (55066263022277343669578718895168534326250603453777594175500187360389116729240, 32670510020758816978083085130507043184471273380659243275938904335757337482424)\n",
      "Verify the public key is on the curve:  True\n",
      "secret key: 2\n",
      " public key: (89565891926547004231252920425935692360644145829622209833684329913297188986597, 12158399299693830322967808612713398636155367887041628176798871954788371653930)\n",
      "Verify the public key is on the curve:  True\n",
      "secret key: 3\n",
      " public key: (112711660439710606056748659173929673102114977341539408544630613555209775888121, 25583027980570883691656905877401976406448868254816295069919888960541586679410)\n",
      "Verify the public key is on the curve:  True\n"
     ]
    }
   ],
   "source": [
    "# if our secret key was the integer 1, then our public key would just be G:\n",
    "# Keep in mind that public_key = secret_key * G\n",
    "sk = 1\n",
    "pk = G\n",
    "print(f\"secret key: {sk}\\n public key: {(pk.x, pk.y)}\")\n",
    "print(\"Verify the public key is on the curve: \", (pk.y**2 - pk.x**3 - 7) % bitcoin_curve.p == 0)\n",
    "\n",
    "sk = 2\n",
    "pk = G + G\n",
    "print(f\"secret key: {sk}\\n public key: {(pk.x, pk.y)}\")\n",
    "print(\"Verify the public key is on the curve: \", (pk.y**2 - pk.x**3 - 7) % bitcoin_curve.p == 0)\n",
    "\n",
    "sk = 3\n",
    "pk = G + G + G\n",
    "print(f\"secret key: {sk}\\n public key: {(pk.x, pk.y)}\")\n",
    "print(\"Verify the public key is on the curve: \", (pk.y**2 - pk.x**3 - 7) % bitcoin_curve.p == 0)"
   ]
  },
  {
   "cell_type": "markdown",
   "id": "08c259f6-dd3e-448c-b366-e39bb61309fc",
   "metadata": {},
   "source": [
    "---\n",
    "Thew problem here is that usually secret_key, or private_key is a large integer. Adding G this large number of times would be very slow. \n",
    "Fortunately we have this algorithm __double and add__ that can really speed up this process. Andrea's post explains it well. Next, let's implement this algorithm."
   ]
  },
  {
   "cell_type": "code",
   "execution_count": 45,
   "id": "aa6d2452-acc3-4c6b-881f-94bbd3994ad7",
   "metadata": {},
   "outputs": [
    {
     "name": "stdout",
     "output_type": "stream",
     "text": [
      "True\n",
      "True\n",
      "True\n",
      "True\n"
     ]
    }
   ],
   "source": [
    "def double_and_add(self, k:int) -> Point:\n",
    "    assert isinstance(k, int) and k >= 0\n",
    "    result = INF\n",
    "    append = self\n",
    "    while k:\n",
    "        if k & 1:\n",
    "            result += append\n",
    "        append += append\n",
    "        k >>= 1\n",
    "    return result\n",
    "\n",
    "# monkey patch double and add into the Point class for convenience\n",
    "Point.__rmul__ = double_and_add\n",
    "\n",
    "# \"verify\" correctness\n",
    "print(G == 1*G)\n",
    "print(G + G == 2*G)\n",
    "print(G + G + G == 3*G)\n",
    "print(G + G + G + G + G +G + G + G + G + G == 10*G)"
   ]
  },
  {
   "cell_type": "markdown",
   "id": "d35989d9-667a-4968-a3b0-4eb5adbb138c",
   "metadata": {},
   "source": [
    "Maybe, another Python implementation of the algorithm explains the logic better.\n",
    "\n",
    "Source: https://andrea.corbellini.name/2015/05/17/elliptic-curve-cryptography-a-gentle-introduction/"
   ]
  },
  {
   "cell_type": "code",
   "execution_count": 36,
   "id": "cd121e8e-7314-47d5-b398-ced71f6f4ec0",
   "metadata": {},
   "outputs": [],
   "source": [
    "def bits(n):\n",
    "    \"\"\"\n",
    "    Generates the binary digits of n, starting from the least significant bit.\n",
    "    \n",
    "    bits(151) -> 1, 1, 1, 0, 1, 0, 0, 1\n",
    "    \"\"\"\n",
    "    while n:\n",
    "        yield n & 1 # check out https://stackoverflow.com/questions/231767/what-does-the-yield-keyword-do for \"yield\"\n",
    "        n >>= 1 # right shift operator, which is a python bitwise operator\n",
    "        print(n)\n",
    "        \n",
    "def double_and_add_andrea(n, x):\n",
    "    \"\"\"\n",
    "    Returns the result of n * x, computed using\n",
    "    the double and add algorithm.\n",
    "    \"\"\"\n",
    "    \n",
    "    result = 0\n",
    "    addend = x\n",
    "    \n",
    "    for bit in bits(n):\n",
    "        if bit == 1:\n",
    "            result += addend\n",
    "        addend *= 2\n",
    "        \n",
    "    return result"
   ]
  },
  {
   "cell_type": "markdown",
   "id": "35f75288-5d4d-43e5-a0c7-5f8b36380718",
   "metadata": {},
   "source": [
    "Now, let's try to derive our actual public key from our secret key defined earlier."
   ]
  },
  {
   "cell_type": "code",
   "execution_count": 47,
   "id": "72d4ac86-319c-486c-afae-cd14858fddd0",
   "metadata": {},
   "outputs": [
    {
     "name": "stdout",
     "output_type": "stream",
     "text": [
      "x: 114156641397826299630828824355167492942493011232318490144835676357671279887432\n",
      "y: 63096451956329221569248690095904719163504830356429270970001086201206174692979\n",
      "Verify the public key is on the curve:  True\n"
     ]
    }
   ],
   "source": [
    "# efficiently derive our actual public key, finally !!\n",
    "public_key = secret_key * G\n",
    "print(f\"x: {public_key.x}\\ny: {public_key.y}\")\n",
    "print(\"Verify the public key is on the curve: \", (public_key.y**2 - public_key.x**3 - 7) % bitcoin_curve.p == 0)"
   ]
  },
  {
   "cell_type": "markdown",
   "id": "b9774df9-01f0-4575-bb78-541c44122719",
   "metadata": {},
   "source": [
    "---\n",
    "With this private/public key pair we've now generated our crypto identity. Now it is time to derive the associated Bitcoin wallet\n",
    "address. This wallet address is not public key itself, but it can be deterministically derived from it. In a nutshell, a wallet address\n",
    "is a hash of public key. Therefore, we need to use somekind of hash function here.\n",
    "\n",
    "Bitcoin uses SHA-256 and also RIPEMD-160. Therefore, we first implement a SHA-256 hash function. The reference here is the NIST document\n",
    "[FIPS PUB 180-4](https://nvlpubs.nist.gov/nistpubs/FIPS/NIST.FIPS.180-4.pdf)."
   ]
  },
  {
   "cell_type": "code",
   "execution_count": 65,
   "id": "eafc0668-ba61-46d4-ba9f-21167c83ed03",
   "metadata": {},
   "outputs": [
    {
     "name": "stdout",
     "output_type": "stream",
     "text": [
      "Verify empty hash:  e3b0c44298fc1c149afbf4c8996fb92427ae41e4649b934ca495991b7852b855\n",
      "69b9779edaa573a509999cbae415d3408c30544bad09727a1d64eff353c95b89\n",
      "number of bytes in a sha256 digest:  32\n"
     ]
    }
   ],
   "source": [
    "def gen_sha256_with_variable_scope_protector_to_not_pollute_global_namespace():\n",
    "    \"\"\"\n",
    "    SHA256 implementation.\n",
    "    \n",
    "    Follows the FIPS PUB 180-4 description for calculating SHA-256 hash function\n",
    "    https://nvlpubs.nist.gov/nistpubs/FIPS/NIST.FIPS.180-4.pdf\n",
    "    \n",
    "    None in their right mind should use this for any serious reason. This was written\n",
    "    purely for educational purposes.\n",
    "    \"\"\"\n",
    "    \n",
    "    import math\n",
    "    from itertools import count, islice\n",
    "    \n",
    "    # -------------------------------------------------------------------------------\n",
    "    # SHA-256 Functions, defined in Section 4 of the FIPS document\n",
    "    \n",
    "    # rotate right operations\n",
    "    def rotr(x, n, size=32):\n",
    "        return (x >> n) | (x << size - n) & (2**size - 1)\n",
    "    \n",
    "    # right shift operation\n",
    "    def shr(x, n):\n",
    "        return x >> n\n",
    "    \n",
    "    # Sigma0 function\n",
    "    def sig0(x):\n",
    "        return rotr(x, 7) ^ rotr(x, 18) ^ shr(x, 3)\n",
    "    \n",
    "    # Sigma1 function\n",
    "    def sig1(x):\n",
    "        return rotr(x, 17) ^ rotr(x, 19) ^ shr(x, 10)\n",
    "    \n",
    "    # sum0 function\n",
    "    def capsig0(x):\n",
    "        return rotr(x, 2) ^ rotr(x, 13) ^ rotr(x, 22)\n",
    "    \n",
    "    # sum1 function\n",
    "    def capsig1(x):\n",
    "        return rotr(x, 6) ^ rotr(x, 11) ^ rotr(x, 25)\n",
    "    \n",
    "    # Ch function\n",
    "    def ch(x, y, z):\n",
    "        return (x & y) ^ (~x & z)\n",
    "    \n",
    "    # Maj function\n",
    "    def maj(x, y, z):\n",
    "        return (x & y) ^ (x & z) ^ (y & z)\n",
    "    \n",
    "    # bits to integer\n",
    "    def b2i(b):\n",
    "        return int.from_bytes(b, 'big')\n",
    "    \n",
    "    # integer to bits\n",
    "    def i2b(i):\n",
    "        return i.to_bytes(4, 'big')\n",
    "    \n",
    "    # ------------------------------------------------------------------------------------\n",
    "    # SHA-256 Constants\n",
    "    \n",
    "    # check if a number is prime number or not\n",
    "    def is_prime(n):\n",
    "        return not any(f for f in range(2, int(math.sqrt(n))+1) if n%f == 0)\n",
    "    \n",
    "    def first_n_primes(n):\n",
    "        return islice(filter(is_prime, count(start=2)), n)\n",
    "    \n",
    "    def frac_bin(f, n=32):\n",
    "        \"\"\" return the first n bits of fractional part of float f \"\"\"\n",
    "        f -= math.floor(f) # get only the fractional part\n",
    "        f *= 2**n # shift left\n",
    "        f = int(f) # truncate the rest of the fractional content\n",
    "        return f\n",
    "    \n",
    "    def genK():\n",
    "        \"\"\"\n",
    "        Follows Section 4.2.2 to generate K\n",
    "        \n",
    "        The first 32 bits of the fractional parts of the cube roots of the \n",
    "        first 64 prime numbers:\n",
    "        428a2f98 71374491 b5c0fbcf e9b5dba5 3956c25b 59f111f1 923f82a4 ab1c5ed5\n",
    "        d807aa98 12835b01 243185be 550c7dc3 72be5d74 80deb1fe 9bdc06a7 c19bf174\n",
    "        e49b69c1 efbe4786 0fc19dc6 240ca1cc 2de92c6f 4a7484aa 5cb0a9dc 76f988da\n",
    "        983e5152 a831c66d b00327c8 bf597fc7 c6e00bf3 d5a79147 06ca6351 14292967\n",
    "        27b70a85 2e1b2138 4d2c6dfc 53380d13 650a7354 766a0abb 81c2c92e 92722c85\n",
    "        a2bfe8a1 a81a664b c24b8b70 c76c51a3 d192e819 d6990624 f40e3585 106aa070\n",
    "        19a4c116 1e376c08 2748774c 34b0bcb5 391c0cb3 4ed8aa4a 5b9cca4f 682e6ff3\n",
    "        748f82ee 78a5636f 84c87814 8cc70208 90befffa a4506ceb bef9a3f7 c67178f2\n",
    "        \"\"\"\n",
    "        return [frac_bin(p ** (1/3.0)) for p in first_n_primes(64)]\n",
    "    \n",
    "    def genH():\n",
    "        \"\"\"\n",
    "        Follows Section 5.3.3 to generate the initial hash value H^0\n",
    "        \n",
    "        The first 32 bits of the fractional parts of the square roots of the \n",
    "        first 8 prime numbers.\n",
    "        \n",
    "        6a09e667 bb67ae85 3c6ef372 a54ff53a 9b05688c 510e527f 1f83d9ab 5be0cd19\n",
    "        \"\"\"\n",
    "        return [frac_bin(p ** (1/2.0)) for p in first_n_primes(8)]\n",
    "               \n",
    "    # -------------------------------------------------------------------------------------\n",
    "    \n",
    "    def pad(b):\n",
    "        \"\"\" Follows Section 5.1: Padding the message \"\"\"\n",
    "        b = bytearray(b) # convert to a mutable equivalent\n",
    "        l = len(b) * 8 # note: len returns number of bytes, not bits\n",
    "        \n",
    "        # Append but \"1\" to the end of the message\n",
    "        b.append(0b10000000) # appending 10000000 in binary (=128 in decimal)\n",
    "        \n",
    "        # follow by k zero bits, where k is the smallest non-negative solution to\n",
    "        # l + 1 + k = 448 mod 512\n",
    "        # i.e., pad with zeros until we reach 448 (mod 512)\n",
    "        while (len(b)*8) % 512 != 448:\n",
    "            b.append(0x00)\n",
    "            \n",
    "        # the last 64-bit block is the length l of the original message\n",
    "        # expressed in binary (big endian)\n",
    "        b.extend(l.to_bytes(8, 'big'))\n",
    "        \n",
    "        return b\n",
    "   \n",
    "    def sha256(b: bytes) -> bytes:\n",
    "        \n",
    "        \"\"\" Follows multiple sections in the FIPS document\"\"\"\n",
    "        # Section 4.2\n",
    "        K = genK()\n",
    "        \n",
    "        # Section 5: Preprocessing\n",
    "        # Section 5.1: Pad the message\n",
    "        b = pad(b)\n",
    "        # Section 5.2: separate the message into blocks of 512 bits (64 bytes)\n",
    "        blocks = [b[i:i+64]for i in range(0, len(b), 64)]\n",
    "        \n",
    "        # for each message block M^1, ..., M^N\n",
    "        H = genH() # Section 5.3\n",
    "        \n",
    "        # Section 6\n",
    "        for M in blocks: # each block is a 64-entry array of 8-bit bytes\n",
    "            # 1. Prepare the message schedule, a 64-entry array of 32-bit words\n",
    "            W = []\n",
    "            for t in range(64):\n",
    "                if t <= 15:\n",
    "                    # The first 16 words are just a copy of the block\n",
    "                    W.append(bytes(M[t*4:t*4+4]))\n",
    "                else:\n",
    "                    term1 = sig1(b2i(W[t-2]))\n",
    "                    term2 = b2i(W[t-7])\n",
    "                    term3 = sig0(b2i(W[t-15]))\n",
    "                    term4 = b2i(W[t-16])\n",
    "                    total = (term1 + term2 + term3 + term4) % 2**32\n",
    "                    W.append(i2b(total))\n",
    "                \n",
    "            # 2. Initialize the 8 working variables a, b, c, d, e, f, g, h with prev hash value\n",
    "            a, b, c, d, e, f, g, h = H\n",
    "            \n",
    "            # 3. For t = 0 to 63, calculate:\n",
    "            for t in range(64):\n",
    "                T1 = (h + capsig1(e) + ch(e, f, g) + K[t] + b2i(W[t])) % 2**32\n",
    "                T2 = (capsig0(a) + maj(a, b, c)) % 2**32\n",
    "                h = g\n",
    "                g = f\n",
    "                f = e\n",
    "                e = (d + T1) % 2**32\n",
    "                d = c\n",
    "                c = b\n",
    "                b = a\n",
    "                a = (T1 + T2) % 2**32\n",
    "                \n",
    "            # 4. Compute the i-th intermediate hash valua H^i\n",
    "            delta = [a, b, c, d, e, f, g, h]\n",
    "            H = [(i1 + i2) % 2**32 for i1, i2 in zip(H, delta)]\n",
    "            \n",
    "        return b''.join(i2b(i) for i in H)\n",
    "    \n",
    "    return sha256\n",
    "\n",
    "sha256 = gen_sha256_with_variable_scope_protector_to_not_pollute_global_namespace()\n",
    "print(\"Verify empty hash: \", sha256(b'').hex()) # should be e3b0c44298fc1c149afbf4c8996fb92427ae41e4649b934ca495991b7852b855\n",
    "print(sha256(b'here is a random bytes message, cool right?').hex())\n",
    "print(\"number of bytes in a sha256 digest: \", len(sha256(b'')))"
   ]
  },
  {
   "cell_type": "markdown",
   "id": "d691dd83-4b74-498d-bbce-2e8d01c59039",
   "metadata": {},
   "source": [
    "---\n",
    "Wow, that is a lot. Let's zoom out and understand the fundamentals of SHA-256. In general the logic is relatively clear. \n",
    "SHA256 takes some bytes message (no limit on the size, it can be any size) that is to be hashed, it first pads the message (wait, what does \"padding a message\" mean? Accoridng to [Wikipedia](https://en.wikipedia.org/wiki/Padding_(cryptography)), \"padding is any of a number of\n",
    "of distinct practices which all include adding data to the beginning, middle, or end of a message prior to encryption.\"),\n",
    "then breaks it up into chunks, and passes these chunks into what can be best described as a fancy \"bit mixer\", defined in Section 3 of FIPS document. This \"bit mixer\" contains a number of bit shifts and binary operations orchestrated in a way that is hardly intuitive, but that results in a fixed-size, random-looking short digest of any variably-sized original message subject to the scrambling is not invertible and also it is computationaly impossible to construct a different message that hashes to any given digest. But note that it does not mean there are no two original messages that hash to the same digest. As a matter of fact, theoretically there exist two different messages with the same hash value because of a simple fact: The input size of SHA256 > the output size. But it is just computational impossible to actually find that other message that gives us the same hash value.\n",
    "\n",
    "Bitcoin uses SHA256 everywhere to create hashes. It is also the core element in Bitcoin's Proof of Work (POW), where the goal is to modify\n",
    "some numbers until the whole thing hashes to a sufficiently low number. This can only be done by brute force search due to the nice properties of SHA256.\n",
    "\n",
    "\n",
    "Whewwwww. That is a lot. Let's move on from SHA256 to focus on another hash function needed to generate our address in Bitcoin: RIPEMD 160."
   ]
  },
  {
   "cell_type": "markdown",
   "id": "9926cba3-4647-4806-9f7a-0a7993f29d54",
   "metadata": {},
   "source": [
    "---\n",
    "__RIPEMD 160 hash function__\n",
    "\n",
    "Description: https://www.esat.kuleuven.be/cosic/publications/article-317.pdf\n",
    "\n",
    "RIPEMD160 has been superseded by the SHA-256 and SHA-512. I am not sure why it was used in Bitcoin in the first place. \n",
    "There is not much historical context about its application in Bitcoin.\n",
    "For its implementation, Andrea found the\n",
    "python script on the Internet and shortened and cleaned up. So I will just copy them here without writing line by line and understanding it. Lazy!!"
   ]
  },
  {
   "cell_type": "code",
   "execution_count": 66,
   "id": "a5788da5-57bb-492e-be33-69b7b4ac13ef",
   "metadata": {},
   "outputs": [
    {
     "name": "stdout",
     "output_type": "stream",
     "text": [
      "f51960af7dd4813a587ab26388ddab3b28d1f7b4\n",
      "number of bytes in a RIPEMD-160 digest is:  20\n"
     ]
    }
   ],
   "source": [
    "def gen_ripemd160_with_variable_scope_protector_to_not_pollute_global_namespace():\n",
    "\n",
    "    import sys\n",
    "    import struct\n",
    "\n",
    "    # -----------------------------------------------------------------------------\n",
    "    # public interface\n",
    "\n",
    "    def ripemd160(b: bytes) -> bytes:\n",
    "        \"\"\" simple wrapper for a simpler API to this hash function, just bytes to bytes \"\"\"\n",
    "        ctx = RMDContext()\n",
    "        RMD160Update(ctx, b, len(b))\n",
    "        digest = RMD160Final(ctx)\n",
    "        return digest\n",
    "\n",
    "    # -----------------------------------------------------------------------------\n",
    "\n",
    "    class RMDContext:\n",
    "        def __init__(self):\n",
    "            self.state = [0x67452301, 0xEFCDAB89, 0x98BADCFE, 0x10325476, 0xC3D2E1F0] # uint32\n",
    "            self.count = 0 # uint64\n",
    "            self.buffer = [0]*64 # uchar\n",
    "\n",
    "    def RMD160Update(ctx, inp, inplen):\n",
    "        have = int((ctx.count // 8) % 64)\n",
    "        inplen = int(inplen)\n",
    "        need = 64 - have\n",
    "        ctx.count += 8 * inplen\n",
    "        off = 0\n",
    "        if inplen >= need:\n",
    "            if have:\n",
    "                for i in range(need):\n",
    "                    ctx.buffer[have+i] = inp[i]\n",
    "                RMD160Transform(ctx.state, ctx.buffer)\n",
    "                off = need\n",
    "                have = 0\n",
    "            while off + 64 <= inplen:\n",
    "                RMD160Transform(ctx.state, inp[off:])\n",
    "                off += 64\n",
    "        if off < inplen:\n",
    "            for i in range(inplen - off):\n",
    "                ctx.buffer[have+i] = inp[off+i]\n",
    "\n",
    "    def RMD160Final(ctx):\n",
    "        size = struct.pack(\"<Q\", ctx.count)\n",
    "        padlen = 64 - ((ctx.count // 8) % 64)\n",
    "        if padlen < 1 + 8:\n",
    "            padlen += 64\n",
    "        RMD160Update(ctx, PADDING, padlen-8)\n",
    "        RMD160Update(ctx, size, 8)\n",
    "        return struct.pack(\"<5L\", *ctx.state)\n",
    "\n",
    "    # -----------------------------------------------------------------------------\n",
    "\n",
    "    K0 = 0x00000000\n",
    "    K1 = 0x5A827999\n",
    "    K2 = 0x6ED9EBA1\n",
    "    K3 = 0x8F1BBCDC\n",
    "    K4 = 0xA953FD4E\n",
    "    KK0 = 0x50A28BE6\n",
    "    KK1 = 0x5C4DD124\n",
    "    KK2 = 0x6D703EF3\n",
    "    KK3 = 0x7A6D76E9\n",
    "    KK4 = 0x00000000\n",
    "\n",
    "    PADDING = [0x80] + [0]*63\n",
    "\n",
    "    def ROL(n, x):\n",
    "        return ((x << n) & 0xffffffff) | (x >> (32 - n))\n",
    "\n",
    "    def F0(x, y, z):\n",
    "        return x ^ y ^ z\n",
    "\n",
    "    def F1(x, y, z):\n",
    "        return (x & y) | (((~x) % 0x100000000) & z)\n",
    "\n",
    "    def F2(x, y, z):\n",
    "        return (x | ((~y) % 0x100000000)) ^ z\n",
    "\n",
    "    def F3(x, y, z):\n",
    "        return (x & z) | (((~z) % 0x100000000) & y)\n",
    "\n",
    "    def F4(x, y, z):\n",
    "        return x ^ (y | ((~z) % 0x100000000))\n",
    "\n",
    "    def R(a, b, c, d, e, Fj, Kj, sj, rj, X):\n",
    "        a = ROL(sj, (a + Fj(b, c, d) + X[rj] + Kj) % 0x100000000) + e\n",
    "        c = ROL(10, c)\n",
    "        return a % 0x100000000, c\n",
    "\n",
    "    def RMD160Transform(state, block): #uint32 state[5], uchar block[64]\n",
    "\n",
    "        x = [0]*16\n",
    "        assert sys.byteorder == 'little', \"Only little endian is supported atm for RIPEMD160\"\n",
    "        x = struct.unpack('<16L', bytes(block[0:64]))\n",
    "\n",
    "        a = state[0]\n",
    "        b = state[1]\n",
    "        c = state[2]\n",
    "        d = state[3]\n",
    "        e = state[4]\n",
    "\n",
    "        #/* Round 1 */\n",
    "        a, c = R(a, b, c, d, e, F0, K0, 11,  0, x)\n",
    "        e, b = R(e, a, b, c, d, F0, K0, 14,  1, x)\n",
    "        d, a = R(d, e, a, b, c, F0, K0, 15,  2, x)\n",
    "        c, e = R(c, d, e, a, b, F0, K0, 12,  3, x)\n",
    "        b, d = R(b, c, d, e, a, F0, K0,  5,  4, x)\n",
    "        a, c = R(a, b, c, d, e, F0, K0,  8,  5, x)\n",
    "        e, b = R(e, a, b, c, d, F0, K0,  7,  6, x)\n",
    "        d, a = R(d, e, a, b, c, F0, K0,  9,  7, x)\n",
    "        c, e = R(c, d, e, a, b, F0, K0, 11,  8, x)\n",
    "        b, d = R(b, c, d, e, a, F0, K0, 13,  9, x)\n",
    "        a, c = R(a, b, c, d, e, F0, K0, 14, 10, x)\n",
    "        e, b = R(e, a, b, c, d, F0, K0, 15, 11, x)\n",
    "        d, a = R(d, e, a, b, c, F0, K0,  6, 12, x)\n",
    "        c, e = R(c, d, e, a, b, F0, K0,  7, 13, x)\n",
    "        b, d = R(b, c, d, e, a, F0, K0,  9, 14, x)\n",
    "        a, c = R(a, b, c, d, e, F0, K0,  8, 15, x) #/* #15 */\n",
    "        #/* Round 2 */\n",
    "        e, b = R(e, a, b, c, d, F1, K1,  7,  7, x)\n",
    "        d, a = R(d, e, a, b, c, F1, K1,  6,  4, x)\n",
    "        c, e = R(c, d, e, a, b, F1, K1,  8, 13, x)\n",
    "        b, d = R(b, c, d, e, a, F1, K1, 13,  1, x)\n",
    "        a, c = R(a, b, c, d, e, F1, K1, 11, 10, x)\n",
    "        e, b = R(e, a, b, c, d, F1, K1,  9,  6, x)\n",
    "        d, a = R(d, e, a, b, c, F1, K1,  7, 15, x)\n",
    "        c, e = R(c, d, e, a, b, F1, K1, 15,  3, x)\n",
    "        b, d = R(b, c, d, e, a, F1, K1,  7, 12, x)\n",
    "        a, c = R(a, b, c, d, e, F1, K1, 12,  0, x)\n",
    "        e, b = R(e, a, b, c, d, F1, K1, 15,  9, x)\n",
    "        d, a = R(d, e, a, b, c, F1, K1,  9,  5, x)\n",
    "        c, e = R(c, d, e, a, b, F1, K1, 11,  2, x)\n",
    "        b, d = R(b, c, d, e, a, F1, K1,  7, 14, x)\n",
    "        a, c = R(a, b, c, d, e, F1, K1, 13, 11, x)\n",
    "        e, b = R(e, a, b, c, d, F1, K1, 12,  8, x) #/* #31 */\n",
    "        #/* Round 3 */\n",
    "        d, a = R(d, e, a, b, c, F2, K2, 11,  3, x)\n",
    "        c, e = R(c, d, e, a, b, F2, K2, 13, 10, x)\n",
    "        b, d = R(b, c, d, e, a, F2, K2,  6, 14, x)\n",
    "        a, c = R(a, b, c, d, e, F2, K2,  7,  4, x)\n",
    "        e, b = R(e, a, b, c, d, F2, K2, 14,  9, x)\n",
    "        d, a = R(d, e, a, b, c, F2, K2,  9, 15, x)\n",
    "        c, e = R(c, d, e, a, b, F2, K2, 13,  8, x)\n",
    "        b, d = R(b, c, d, e, a, F2, K2, 15,  1, x)\n",
    "        a, c = R(a, b, c, d, e, F2, K2, 14,  2, x)\n",
    "        e, b = R(e, a, b, c, d, F2, K2,  8,  7, x)\n",
    "        d, a = R(d, e, a, b, c, F2, K2, 13,  0, x)\n",
    "        c, e = R(c, d, e, a, b, F2, K2,  6,  6, x)\n",
    "        b, d = R(b, c, d, e, a, F2, K2,  5, 13, x)\n",
    "        a, c = R(a, b, c, d, e, F2, K2, 12, 11, x)\n",
    "        e, b = R(e, a, b, c, d, F2, K2,  7,  5, x)\n",
    "        d, a = R(d, e, a, b, c, F2, K2,  5, 12, x) #/* #47 */\n",
    "        #/* Round 4 */\n",
    "        c, e = R(c, d, e, a, b, F3, K3, 11,  1, x)\n",
    "        b, d = R(b, c, d, e, a, F3, K3, 12,  9, x)\n",
    "        a, c = R(a, b, c, d, e, F3, K3, 14, 11, x)\n",
    "        e, b = R(e, a, b, c, d, F3, K3, 15, 10, x)\n",
    "        d, a = R(d, e, a, b, c, F3, K3, 14,  0, x)\n",
    "        c, e = R(c, d, e, a, b, F3, K3, 15,  8, x)\n",
    "        b, d = R(b, c, d, e, a, F3, K3,  9, 12, x)\n",
    "        a, c = R(a, b, c, d, e, F3, K3,  8,  4, x)\n",
    "        e, b = R(e, a, b, c, d, F3, K3,  9, 13, x)\n",
    "        d, a = R(d, e, a, b, c, F3, K3, 14,  3, x)\n",
    "        c, e = R(c, d, e, a, b, F3, K3,  5,  7, x)\n",
    "        b, d = R(b, c, d, e, a, F3, K3,  6, 15, x)\n",
    "        a, c = R(a, b, c, d, e, F3, K3,  8, 14, x)\n",
    "        e, b = R(e, a, b, c, d, F3, K3,  6,  5, x)\n",
    "        d, a = R(d, e, a, b, c, F3, K3,  5,  6, x)\n",
    "        c, e = R(c, d, e, a, b, F3, K3, 12,  2, x) #/* #63 */\n",
    "        #/* Round 5 */\n",
    "        b, d = R(b, c, d, e, a, F4, K4,  9,  4, x)\n",
    "        a, c = R(a, b, c, d, e, F4, K4, 15,  0, x)\n",
    "        e, b = R(e, a, b, c, d, F4, K4,  5,  5, x)\n",
    "        d, a = R(d, e, a, b, c, F4, K4, 11,  9, x)\n",
    "        c, e = R(c, d, e, a, b, F4, K4,  6,  7, x)\n",
    "        b, d = R(b, c, d, e, a, F4, K4,  8, 12, x)\n",
    "        a, c = R(a, b, c, d, e, F4, K4, 13,  2, x)\n",
    "        e, b = R(e, a, b, c, d, F4, K4, 12, 10, x)\n",
    "        d, a = R(d, e, a, b, c, F4, K4,  5, 14, x)\n",
    "        c, e = R(c, d, e, a, b, F4, K4, 12,  1, x)\n",
    "        b, d = R(b, c, d, e, a, F4, K4, 13,  3, x)\n",
    "        a, c = R(a, b, c, d, e, F4, K4, 14,  8, x)\n",
    "        e, b = R(e, a, b, c, d, F4, K4, 11, 11, x)\n",
    "        d, a = R(d, e, a, b, c, F4, K4,  8,  6, x)\n",
    "        c, e = R(c, d, e, a, b, F4, K4,  5, 15, x)\n",
    "        b, d = R(b, c, d, e, a, F4, K4,  6, 13, x) #/* #79 */\n",
    "\n",
    "        aa = a\n",
    "        bb = b\n",
    "        cc = c\n",
    "        dd = d\n",
    "        ee = e\n",
    "\n",
    "        a = state[0]\n",
    "        b = state[1]\n",
    "        c = state[2]\n",
    "        d = state[3]\n",
    "        e = state[4]\n",
    "\n",
    "        #/* Parallel round 1 */\n",
    "        a, c = R(a, b, c, d, e, F4, KK0,  8,  5, x)\n",
    "        e, b = R(e, a, b, c, d, F4, KK0,  9, 14, x)\n",
    "        d, a = R(d, e, a, b, c, F4, KK0,  9,  7, x)\n",
    "        c, e = R(c, d, e, a, b, F4, KK0, 11,  0, x)\n",
    "        b, d = R(b, c, d, e, a, F4, KK0, 13,  9, x)\n",
    "        a, c = R(a, b, c, d, e, F4, KK0, 15,  2, x)\n",
    "        e, b = R(e, a, b, c, d, F4, KK0, 15, 11, x)\n",
    "        d, a = R(d, e, a, b, c, F4, KK0,  5,  4, x)\n",
    "        c, e = R(c, d, e, a, b, F4, KK0,  7, 13, x)\n",
    "        b, d = R(b, c, d, e, a, F4, KK0,  7,  6, x)\n",
    "        a, c = R(a, b, c, d, e, F4, KK0,  8, 15, x)\n",
    "        e, b = R(e, a, b, c, d, F4, KK0, 11,  8, x)\n",
    "        d, a = R(d, e, a, b, c, F4, KK0, 14,  1, x)\n",
    "        c, e = R(c, d, e, a, b, F4, KK0, 14, 10, x)\n",
    "        b, d = R(b, c, d, e, a, F4, KK0, 12,  3, x)\n",
    "        a, c = R(a, b, c, d, e, F4, KK0,  6, 12, x) #/* #15 */\n",
    "        #/* Parallel round 2 */\n",
    "        e, b = R(e, a, b, c, d, F3, KK1,  9,  6, x)\n",
    "        d, a = R(d, e, a, b, c, F3, KK1, 13, 11, x)\n",
    "        c, e = R(c, d, e, a, b, F3, KK1, 15,  3, x)\n",
    "        b, d = R(b, c, d, e, a, F3, KK1,  7,  7, x)\n",
    "        a, c = R(a, b, c, d, e, F3, KK1, 12,  0, x)\n",
    "        e, b = R(e, a, b, c, d, F3, KK1,  8, 13, x)\n",
    "        d, a = R(d, e, a, b, c, F3, KK1,  9,  5, x)\n",
    "        c, e = R(c, d, e, a, b, F3, KK1, 11, 10, x)\n",
    "        b, d = R(b, c, d, e, a, F3, KK1,  7, 14, x)\n",
    "        a, c = R(a, b, c, d, e, F3, KK1,  7, 15, x)\n",
    "        e, b = R(e, a, b, c, d, F3, KK1, 12,  8, x)\n",
    "        d, a = R(d, e, a, b, c, F3, KK1,  7, 12, x)\n",
    "        c, e = R(c, d, e, a, b, F3, KK1,  6,  4, x)\n",
    "        b, d = R(b, c, d, e, a, F3, KK1, 15,  9, x)\n",
    "        a, c = R(a, b, c, d, e, F3, KK1, 13,  1, x)\n",
    "        e, b = R(e, a, b, c, d, F3, KK1, 11,  2, x) #/* #31 */\n",
    "        #/* Parallel round 3 */\n",
    "        d, a = R(d, e, a, b, c, F2, KK2,  9, 15, x)\n",
    "        c, e = R(c, d, e, a, b, F2, KK2,  7,  5, x)\n",
    "        b, d = R(b, c, d, e, a, F2, KK2, 15,  1, x)\n",
    "        a, c = R(a, b, c, d, e, F2, KK2, 11,  3, x)\n",
    "        e, b = R(e, a, b, c, d, F2, KK2,  8,  7, x)\n",
    "        d, a = R(d, e, a, b, c, F2, KK2,  6, 14, x)\n",
    "        c, e = R(c, d, e, a, b, F2, KK2,  6,  6, x)\n",
    "        b, d = R(b, c, d, e, a, F2, KK2, 14,  9, x)\n",
    "        a, c = R(a, b, c, d, e, F2, KK2, 12, 11, x)\n",
    "        e, b = R(e, a, b, c, d, F2, KK2, 13,  8, x)\n",
    "        d, a = R(d, e, a, b, c, F2, KK2,  5, 12, x)\n",
    "        c, e = R(c, d, e, a, b, F2, KK2, 14,  2, x)\n",
    "        b, d = R(b, c, d, e, a, F2, KK2, 13, 10, x)\n",
    "        a, c = R(a, b, c, d, e, F2, KK2, 13,  0, x)\n",
    "        e, b = R(e, a, b, c, d, F2, KK2,  7,  4, x)\n",
    "        d, a = R(d, e, a, b, c, F2, KK2,  5, 13, x) #/* #47 */\n",
    "        #/* Parallel round 4 */\n",
    "        c, e = R(c, d, e, a, b, F1, KK3, 15,  8, x)\n",
    "        b, d = R(b, c, d, e, a, F1, KK3,  5,  6, x)\n",
    "        a, c = R(a, b, c, d, e, F1, KK3,  8,  4, x)\n",
    "        e, b = R(e, a, b, c, d, F1, KK3, 11,  1, x)\n",
    "        d, a = R(d, e, a, b, c, F1, KK3, 14,  3, x)\n",
    "        c, e = R(c, d, e, a, b, F1, KK3, 14, 11, x)\n",
    "        b, d = R(b, c, d, e, a, F1, KK3,  6, 15, x)\n",
    "        a, c = R(a, b, c, d, e, F1, KK3, 14,  0, x)\n",
    "        e, b = R(e, a, b, c, d, F1, KK3,  6,  5, x)\n",
    "        d, a = R(d, e, a, b, c, F1, KK3,  9, 12, x)\n",
    "        c, e = R(c, d, e, a, b, F1, KK3, 12,  2, x)\n",
    "        b, d = R(b, c, d, e, a, F1, KK3,  9, 13, x)\n",
    "        a, c = R(a, b, c, d, e, F1, KK3, 12,  9, x)\n",
    "        e, b = R(e, a, b, c, d, F1, KK3,  5,  7, x)\n",
    "        d, a = R(d, e, a, b, c, F1, KK3, 15, 10, x)\n",
    "        c, e = R(c, d, e, a, b, F1, KK3,  8, 14, x) #/* #63 */\n",
    "        #/* Parallel round 5 */\n",
    "        b, d = R(b, c, d, e, a, F0, KK4,  8, 12, x)\n",
    "        a, c = R(a, b, c, d, e, F0, KK4,  5, 15, x)\n",
    "        e, b = R(e, a, b, c, d, F0, KK4, 12, 10, x)\n",
    "        d, a = R(d, e, a, b, c, F0, KK4,  9,  4, x)\n",
    "        c, e = R(c, d, e, a, b, F0, KK4, 12,  1, x)\n",
    "        b, d = R(b, c, d, e, a, F0, KK4,  5,  5, x)\n",
    "        a, c = R(a, b, c, d, e, F0, KK4, 14,  8, x)\n",
    "        e, b = R(e, a, b, c, d, F0, KK4,  6,  7, x)\n",
    "        d, a = R(d, e, a, b, c, F0, KK4,  8,  6, x)\n",
    "        c, e = R(c, d, e, a, b, F0, KK4, 13,  2, x)\n",
    "        b, d = R(b, c, d, e, a, F0, KK4,  6, 13, x)\n",
    "        a, c = R(a, b, c, d, e, F0, KK4,  5, 14, x)\n",
    "        e, b = R(e, a, b, c, d, F0, KK4, 15,  0, x)\n",
    "        d, a = R(d, e, a, b, c, F0, KK4, 13,  3, x)\n",
    "        c, e = R(c, d, e, a, b, F0, KK4, 11,  9, x)\n",
    "        b, d = R(b, c, d, e, a, F0, KK4, 11, 11, x) #/* #79 */\n",
    "\n",
    "        t = (state[1] + cc + d) % 0x100000000\n",
    "        state[1] = (state[2] + dd + e) % 0x100000000\n",
    "        state[2] = (state[3] + ee + a) % 0x100000000\n",
    "        state[3] = (state[4] + aa + b) % 0x100000000\n",
    "        state[4] = (state[0] + bb + c) % 0x100000000\n",
    "        state[0] = t % 0x100000000\n",
    "\n",
    "    return ripemd160\n",
    "\n",
    "ripemd160 = gen_ripemd160_with_variable_scope_protector_to_not_pollute_global_namespace()\n",
    "print(ripemd160(b'hello this is a test').hex())\n",
    "print(\"number of bytes in a RIPEMD-160 digest is: \", len(ripemd160(b'')))"
   ]
  },
  {
   "cell_type": "markdown",
   "id": "eb382db5-5504-4ce5-a41a-543e91f5e8c4",
   "metadata": {},
   "source": [
    "The general idea here is similar to SHA256. Again it is a \"bit mixer\" of a lot of binary operations to obsecure the original message."
   ]
  },
  {
   "cell_type": "markdown",
   "id": "fc0d74ee-af20-4a48-85cb-a121a6b2deca",
   "metadata": {},
   "source": [
    "Now, we are ready to generate our Bitcoin address. Let's first create a subclass of `Point` called `PublicKey`. \n",
    "If we recall correctly, public key is just a Point on the Curve but now has some additional semantics and interpretation of a Bitcoin public\n",
    "key, together with some methods of encoding/decoding the key into bytes for communication in the Bitcoin protocol."
   ]
  },
  {
   "cell_type": "code",
   "execution_count": 69,
   "id": "28b39085-1a17-4159-9439-dfa74490045f",
   "metadata": {},
   "outputs": [],
   "source": [
    "class PublicKey(Point):\n",
    "    \"\"\"\n",
    "    The public key is just a Point on a Curve, but has some additional \n",
    "    specific encoding/decoding functionality that this class implements.\n",
    "    \"\"\"\n",
    "    \n",
    "    @classmethod\n",
    "    def from_point(cls, pt: Point):\n",
    "        \"\"\" promote a Point to be a PublicKey\"\"\"\n",
    "        return cls(pt.curve, pt.x, pt.y)\n",
    "    \n",
    "    def encode(self, compressed, hash160=False):\n",
    "        \"\"\"return the SEC bytes encoding of the public key Point\"\"\"\n",
    "        \n",
    "        # calculate the bytes\n",
    "        if compressed:\n",
    "            # (x,y) is very redundant, why? Because Bicoin curve is\n",
    "            # y^2 = x^3 + 7, so we can just encode x and then\n",
    "            # y = +/- sqrt(x^3 + 7), so we need one more bit to encode\n",
    "            # whether it was the + or - but because this modular arithmetic\n",
    "            # there is no +/-, instead it can be shown that one y will always\n",
    "            # be even and the other odd.\n",
    "            prefix = b'\\x02' if self.y % 2 == 0 else b'\\x03'\n",
    "            pkb = prefix + self.x.to_bytes(32, 'big')\n",
    "        else:\n",
    "            pkb = b'\\x04' + self.x.to_bytes(32, 'big') + self.y.to_bytes(32, 'big')\n",
    "        # Hash if desired\n",
    "        return ripemd160(sha256(pkb)) if hash160 else pkb\n",
    "    \n",
    "    def address(self, net: str, compressed: bool) -> str:\n",
    "        \"\"\" return the associated bitcoin address for this public key as string \"\"\"\n",
    "        # encode the public key into bytes and hash to get their payload\n",
    "        pkb_hash = self.encode(compressed=compressed, hash160=True)\n",
    "        # add version byte (0x00 for Main Network, or 0x6f for Test Network)\n",
    "        version = {'main': b'\\x00', 'test': b'\\x6f'}\n",
    "        ver_pkb_hash = version[net] + pkb_hash\n",
    "        # Calculate the checksum\n",
    "        checksum = sha256(sha256(ver_pkb_hash))[:4]\n",
    "        # append to form the full 25-byte binary Bitcoin Address\n",
    "        # so, the result is composed of three items: a prefix, the data, and a checksum\n",
    "        byte_address = ver_pkb_hash + checksum\n",
    "        # finally the result is encoded using Base58 encode.\n",
    "        b58check_address = b58encode(byte_address)\n",
    "        return b58check_address"
   ]
  },
  {
   "cell_type": "markdown",
   "id": "9e7c4bc3-b170-4837-abc2-186ea6286b84",
   "metadata": {},
   "source": [
    "For one moment, I was thinking what this b58encode was or if we defined somewhere. Python indeed has\n",
    "a package for implementing Base58 encode. But since we want to do everything from scratch here, let's\n",
    "implement this by defining a function."
   ]
  },
  {
   "cell_type": "code",
   "execution_count": 76,
   "id": "3e37b795-9f83-4092-913b-6fb960c78244",
   "metadata": {},
   "outputs": [],
   "source": [
    "# Base58 encoding/decoding utilities\n",
    "# Reference: https://en.bitcoin.it/wiki/Base58Check_encoding\n",
    "\n",
    "# alphabet used in Base58 encode, \"O\"(capital o), \"0\"(number zero), \"I\" (capital i), \"l\" (lower case) are excluded.\n",
    "alphabet = '123456789ABCDEFGHJKLMNPQRSTUVWXYZabcdefghijkmnopqrstuvwxyz'\n",
    "\n",
    "def b58encode(b: bytes) -> str:\n",
    "    assert len(b) == 25 # version is 1 byte, pkb_hash 20 bytes, checksum 4 bytes\n",
    "    n = int.from_bytes(b, 'big')\n",
    "    chars = []\n",
    "    while n:\n",
    "        n, i = divmod(n, 58) # returns quotient and the remainder\n",
    "        chars.append(alphabet[i])\n",
    "    # special case handle the leading 0 bytes...\n",
    "    num_leading_zeros = len(b) - len(b.lstrip(b'\\x00'))\n",
    "    res = num_leading_zeros * alphabet[0] + ''.join(reversed(chars))\n",
    "    return res"
   ]
  },
  {
   "cell_type": "markdown",
   "id": "cbb83772-437c-4987-bcdb-a1dade2ffc89",
   "metadata": {},
   "source": [
    "Finally, we are ready to print our Bitcoin address:"
   ]
  },
  {
   "cell_type": "code",
   "execution_count": 77,
   "id": "24fe18e3-a8ca-428d-9aca-1da9f8659014",
   "metadata": {},
   "outputs": [
    {
     "name": "stdout",
     "output_type": "stream",
     "text": [
      "n1zrQKCc6K3sKiFv5hLg8JoPNLPbTZpC9k\n"
     ]
    }
   ],
   "source": [
    "# We are going to use \"test net\" for this exploration since it is the developer's Bitcoin parallel universe\n",
    "# so, net='test'\n",
    "address = PublicKey.from_point(public_key).address(net='test', compressed=True)\n",
    "print(address)"
   ]
  },
  {
   "cell_type": "markdown",
   "id": "67d62317-c6bd-4093-8f25-da55a55062a4",
   "metadata": {},
   "source": [
    "---\n",
    "We can check Bitcoin block explorer to verify if this address has transacted before. For this purpose, we can use\n",
    "https://www.blockchain.com/btc-testnet/blocks. The [result](https://www.blockchain.com/search?search=n1zrQKCc6K3sKiFv5hLg8JoPNLPbTZpC9k)\n",
    "shows no transaction associated with this address. This makes sense because there would have to be some other \"Aysajan\" with a bad sense of humor also tickering with Bitcoin, which is one in a million years I guess. \n",
    "\n",
    "Of course, we can play around with some non-secret secret keys and see if anyone used it before. For example, we can check the address associated with the lowest valid secret key of 1, where the public key is exactly the generator point. Let's test this out:"
   ]
  },
  {
   "cell_type": "code",
   "execution_count": 79,
   "id": "29edec8e-3a71-40b1-a623-b44848e41e08",
   "metadata": {},
   "outputs": [
    {
     "data": {
      "text/plain": [
       "'mrCDrCybB6J1vRfbwM5hemdJz73FwDBC8r'"
      ]
     },
     "execution_count": 79,
     "metadata": {},
     "output_type": "execute_result"
    }
   ],
   "source": [
    "lol_secret_key = 1\n",
    "lol_public_key = lol_secret_key * G\n",
    "lol_address = PublicKey.from_point(lol_public_key).address(net='test', compressed=True)\n",
    "lol_address"
   ]
  },
  {
   "cell_type": "markdown",
   "id": "d8e74937-7ffa-4238-b27e-e5fa2d79be3b",
   "metadata": {},
   "source": [
    "Looking at the result of https://www.blockchain.com/btc-testnet/address/mrCDrCybB6J1vRfbwM5hemdJz73FwDBC8r, we can see that this address has\n",
    "transacted 1933 times so far with 0 $BTC in the wallet. It makes sense because if it did have any balance then anyone would just be able to spend it because they know the secret key (of 1) and can use it to digitally sign transactions that spend it."
   ]
  },
  {
   "cell_type": "code",
   "execution_count": 80,
   "id": "198febe0-d7ce-4ebd-ac6f-d7787c1c9393",
   "metadata": {},
   "outputs": [
    {
     "name": "stdout",
     "output_type": "stream",
     "text": [
      "Our first Bitcoin identity:\n",
      "1. secret key:  5703626118991814761598925171845964482230864\n",
      "2. public key:  (114156641397826299630828824355167492942493011232318490144835676357671279887432, 63096451956329221569248690095904719163504830356429270970001086201206174692979)\n",
      "3. Bitcoin address:  n1zrQKCc6K3sKiFv5hLg8JoPNLPbTZpC9k\n"
     ]
    }
   ],
   "source": [
    "# Let's summarize what we achieved so far:\n",
    "\n",
    "print(\"Our first Bitcoin identity:\")\n",
    "print(\"1. secret key: \", secret_key)\n",
    "print(\"2. public key: \", (public_key.x, public_key.y))\n",
    "print(\"3. Bitcoin address: \", address)"
   ]
  },
  {
   "cell_type": "markdown",
   "id": "2f042d7b-58b7-47fa-b9dd-2fcc76b3f0f4",
   "metadata": {},
   "source": [
    "---\n",
    "We zoom out for a bit and think about what steps we went through in order to get this point:\n",
    "\n",
    "Reference: https://en.bitcoin.it/wiki/Technical_background_of_version_1_Bitcoin_addresses#How_to_create_Bitcoin_Address\n",
    "\n",
    "1. Generate a private ECDSA key. How is it done? So we have this special elliptic curve for Bitcoin: $y^2=x^3+7$.\n",
    "The number of all points on this curve (i.e., the order of the curve) is given by $n$. Then this private key is just a random number \n",
    "between 1 (inclusive) and $n$ (exclusive).\n",
    "2. Genearte public key from the private key. The public key is the __point__ on the curve that results from adding the generator point\n",
    "to itself prive key times; i.e., \n",
    "\n",
    "$$\\text{public_key } = G + G + \\text{(private_key times)} + G = \\text{private_key } \\times G$$\n",
    "\n",
    "The result is again a Point on the curve. Recall that G is the generator point of the curve. This addition of points is implemented by\n",
    "__Extended Euclidean Algorithm__. \n",
    "3. Perform SHA256 hashing on the public key. The main operations involve padding the message, breaking the message into chunks and execute\n",
    "a number of bit shifts and binary operations to generate fixed-size, random looking value.\n",
    "4. Perform RIPEMD-160 hashing on the result of SHA256. This is again a number of bit shifts and binary opertations on the output from step 3.\n",
    "5. Add version byte in front of RIPEMD-160 hash (0x00 for main net).\n",
    "6. Perform two more SHA256 hashing on the result from step 5.\n",
    "7. Take the first 4 bytes of the result (which is called checksum) and append it to the address resulted from step 5\n",
    "8. Convert the result from a byte string into a base58 string using Base58 encoding.\n",
    "\n",
    "Then there you have it, a Bitcoin address that you can share with any one and publicly transact with.\n",
    "\n",
    "Andrej provides a shorter layman explanation about all these processes. Basically, we generate a crypto identity \n",
    "that consists of a secret key (a random integer within a range) that only we know, and a derived public key by jumping around\n",
    "the scalar curve using the scalar multiplication of the Generating point (G) on the Bitcoin elliptic curve. We then derive the\n",
    "associated Bitcoin address which we can share with others. Doing so involves the introduction of two hash functions (SHA256 and RIPEMD160)."
   ]
  },
  {
   "cell_type": "markdown",
   "id": "2890adca-bab7-45d3-b5dc-234af4894709",
   "metadata": {},
   "source": [
    "## Obtaining Seed Funds"
   ]
  },
  {
   "cell_type": "markdown",
   "id": "ef5d670b-3be3-4925-90bf-e183b859d614",
   "metadata": {},
   "source": [
    "Once we have a crypto identity, we can create a transaction. Our first transaction will be sending some BTC from the address we generated\n",
    "above (n1zrQKCc6K3sKiFv5hLg8JoPNLPbTZpC9k) to some second wallet we control. So, first let's create this second identity of ours."
   ]
  },
  {
   "cell_type": "code",
   "execution_count": 89,
   "id": "c8f182e3-cdf8-4a0e-8474-999afaffaf21",
   "metadata": {},
   "outputs": [
    {
     "name": "stdout",
     "output_type": "stream",
     "text": [
      "Our second Bitcoin identity: \n",
      "1. secret key:  7993759782619694384297481201601471266087073879975290228\n",
      "2. public key:  (68950971624828955198341676488534015807203381287337197283541725513678050167539, 20537401902890456163713084398204605639097073431787754138343419103713175529094)\n",
      "3. Bitcoin address n3MdbGZ9tw8ahJv8YEPAYFKSQrX8MywaoH\n"
     ]
    }
   ],
   "source": [
    "# secret_key2 = random.randrange(1, bitcoin_gen.n) # Again this would be the right process to use\n",
    "secret_key2 = int.from_bytes(b\"Super secret 2nd wallet\", 'big')\n",
    "assert 1 <= secret_key2 < bitcoin_gen.n # check if it is valid\n",
    "public_key2 = secret_key2 * G\n",
    "address2 = PublicKey.from_point(public_key2).address(net='test', compressed=True)\n",
    "\n",
    "print(\"Our second Bitcoin identity: \")\n",
    "print(\"1. secret key: \", secret_key2)\n",
    "print(\"2. public key: \", (public_key2.x, public_key2.y))\n",
    "print(\"3. Bitcoin address\", address2)"
   ]
  },
  {
   "cell_type": "markdown",
   "id": "501a44df-c13e-4551-a57f-9646056f0d67",
   "metadata": {},
   "source": [
    "---\n",
    "Now we have our second Bitcoin wallet. What we want to achieve next is to send some BTC from my first address n1zrQKCc6K3sKiFv5hLg8JoPNLPbTZpC9k to second address n3MdbGZ9tw8ahJv8YEPAYFKSQrX8MywaoH. But since we just created both of these addresses, there will not be any BTC in them. So we need to first get some \"free\" BTC by asking some available faucets. Of course those BTC have no value since we are playing with test network, not the Main Network. Test network is the \"parallel universe\" developer-intended Bitcoin network. I just googled \"bitcoin testnet faucet\" and the first result came out was https://coinfaucet.eu/en/btc-testnet/. I used this website to\n",
    "get my BTC for the first address. [The result](https://www.blockchain.com/btc-testnet/address/n1zrQKCc6K3sKiFv5hLg8JoPNLPbTZpC9k) shows that I now have $0.01490097 BTC in my first wallet.\n",
    "\n",
    "Next we explore the transaction details. If we click the exact [transaciton ID](https://www.blockchain.com/btc-testnet/tx/b60c6b4fca235abd0990f275c2dbeccec479864d597afc1c89e1515257c45342) we can see various information that gets to the heart of the Bitcoin\n",
    "and how money is represented in it. Let's take a closer look at several components.\n",
    "\n",
    "- Transaction ID, or Hash. Every transaciton has a distinct id/hash. For our transaction the hash was _b60c6b4fca235abd0990f275c2dbeccec479864d597afc1c89e1515257c45342_. From its name, one can guess that it is a hash value. More precisely,\n",
    "this is just SHA256 double hash (hash of a hash) of the transaction data structure. In Bitcoin double SHA256 hashes are used quite often\n",
    "instead of a single hash for added security. But I am not quite sure what security needs to be added for a transaction id. \n",
    "- Inputs and Outputs. As we can see, the faucet transaction has one input and two outputs. The input came from address _tb1qyshspra4yeetah4c3m2c2lje3ffzfe3yq4k92m_ of value 28.22958907 BTC. There were two outputs and first one is associated with our address. \n",
    "Our address received 0.01490097 BTC. The address in the second output is unknown and it received 28.21453860 BTC. We can do a quick math here:\n",
    "\n",
    "$$28.22958907 - (0.01490097+28.21453860)=0.00014950$$\n",
    "\n",
    "This \"change\" amount is called the fee, claimed by the Bitcoin miner who has included this transaction in their block, which in our case is\n",
    "[Block 2286951](https://www.blockchain.com/btc-testnet/block/2286951). 99 transactions were included in this block and we can find our\n",
    "transaction [there](https://www.blockchain.com/btc-testnet/block/000000005f51b7fc6ea11206589860ef35b7576060f68e9589d4fdb3d47e0a6f?page=5).\n",
    "So, this fee acts as a financial incentive for miners to include this transaction in this block, i.e., finalize the transaction. You can guess\n",
    "by now: the higher the fee to the miner, the more likely and faster the transaction to appear in the blockchain.\n",
    "\n",
    "There is one special type of transaction in this block, which appears as the first transaction. One special aspect of this transaction is that\n",
    "there is no input. So basically the miner is sending BTC from a null input to themselves, and the total amount is 0.05330744 BTC. It is the sum of two types of rewards the miner gets:\n",
    "1. Block Reward. This is the incentive for this specific miner with the address 2NEeyjxe8VANDqBkbduhcr5Lzxw4LTujNCu for doing all the computation work and mining a new block. The block reward for this specific block is 0.04882812 BTC \n",
    "2. Fee Rewrad. And then there is second reward of 0.00447932 BTC, which is the sum of all transaction fees paid by the users whose transactions\n",
    "were included in this block by the miner.\n",
    "\n",
    "- Size. Also note that this transaction was 228 bytes.\n",
    "- Pkscript. We also note that the output details has a \"Pkscript\" field, which has:\n",
    "\n",
    "`OP_DUP`\n",
    "\n",
    "`OP_HASH160`\n",
    "\n",
    "`e0a93e8171c874d2688f113290ce425fdbe46969`\n",
    "\n",
    "`OP_EQUALVERIFY`\n",
    "\n",
    "`OP_CHECKSIG`\n",
    "\n",
    "You might wonder where the hell the code is. Well, Bitcoin indeed has a whole stack-based scripting language. But unless you are doing some\n",
    "crazy things with Bitcoin network, a few simple scripts take care of most of the transactions. These Pkscript just represents a list of\n",
    "scripts used in this transaction. This `Pkscript` is the \"locking script\" for this specific Output, which holds our 0.01490097 BTC.\n",
    "\n",
    "Apparently one obvious thing we might do is to spend this Output and turn it into an Input in our next transaction. In order to unlock this\n",
    "output, we need to satisfy the conditions of this locking script. In layman's term, this script is saying that any transaction that aspires to spend this Output must satisfy two conditions:\n",
    "1) Their public key better hash to e0a93e8171c874d2688f113290ce425fdbe46969, and\n",
    "2) The digital signature for the aspiring transaction better validate as being generated by this public key's associated private key.\n",
    "\n",
    "Obviously, only the real owner of the secret key can do both."
   ]
  },
  {
   "cell_type": "markdown",
   "id": "683ddf64-e8cc-416c-876a-16bff9e120dd",
   "metadata": {},
   "source": [
    "But first, let's try to verify that our public key indeed hashes to the digest specified in this output of our faucet transaction. If they\n",
    "match, that means we satisfy first condition. As we can see from the examination below, they indeed match. Sweet. No problem with the\n",
    "first condition of spending this BTC."
   ]
  },
  {
   "cell_type": "code",
   "execution_count": 94,
   "id": "d45981ec-b81e-49d6-b8bf-81e95a3ff5be",
   "metadata": {},
   "outputs": [
    {
     "data": {
      "text/plain": [
       "True"
      ]
     },
     "execution_count": 94,
     "metadata": {},
     "output_type": "execute_result"
    }
   ],
   "source": [
    "PublicKey.from_point(public_key).encode(compressed=True, hash160=True).hex() == 'e0a93e8171c874d2688f113290ce425fdbe46969'"
   ]
  },
  {
   "cell_type": "markdown",
   "id": "9a7be85b-ff28-4e28-955c-3a2d7586e780",
   "metadata": {},
   "source": [
    "Now let's focus on some other transactions we can do."
   ]
  },
  {
   "cell_type": "markdown",
   "id": "e877c52f-e889-4264-8974-a19d1b159a2b",
   "metadata": {},
   "source": [
    "## Crafting Transaction"
   ]
  },
  {
   "cell_type": "markdown",
   "id": "5a4f012c-b10d-40d8-ad75-137521542396",
   "metadata": {},
   "source": [
    "Okay. Let's play with it a little bit more. What we want to try out next is to send half of our funds in our first address to our second wallet.\n",
    "To achieve this , as before our transaction will have exactly one input (= 1st output of the previous transaction, i.e., faucet transaction) \n",
    "and exactly two outputs. One output will go to our 2nd address, the rest of it will send back to our 1st address. \n",
    "\n",
    "So you might wonder, why we just have one input and one output where half of the BTC in my 1st wallet be send directly to second wallet.\n",
    "The answer is that in Bitcoin nextwork, Every Input/Output of any bitcoin transaciton must always be fully spent. So if I own 1 BTC and\n",
    "want to send half of it to someone else, I actually have to send one half there and one half to myself. The transaction will be considered\n",
    "valid if the sum of all outputs < the sum of all inputs. The remainder will be the \"change\" that the winning miner who successfully mined a \n",
    "new block by doing all the work will keep.\n",
    "\n",
    "Let's play around with it next."
   ]
  },
  {
   "cell_type": "code",
   "execution_count": 98,
   "id": "cc77d111-b64a-403b-95c3-80d9af9492d7",
   "metadata": {},
   "outputs": [],
   "source": [
    "@dataclass\n",
    "class TxIn:\n",
    "    prev_tx: bytes # previous transaction ID: hash256 of prev tx contents\n",
    "    prev_index: int # UTXO output index in the transaction\n",
    "    script_sig: Script = None # unlocking script\n",
    "    sequence: int = 0xffffffff # originally intended for \"high frequency trades\", with locktime\n",
    "    \n",
    "tx_in = TxIn(\n",
    "    prev_tx = bytes.fromhex('b60c6b4fca235abd0990f275c2dbeccec479864d597afc1c89e1515257c45342'),\n",
    "    prev_index = 0,\n",
    "    script_sig = None, # this field will have digital signature, to be inserted later\n",
    ")"
   ]
  },
  {
   "cell_type": "markdown",
   "id": "3f05b884-521c-4114-88b6-c2a84a40c720",
   "metadata": {},
   "source": [
    "The first two variables `prev_tx` and `prev_index` identify the specific Output that we are going to spend. Note that nowhere are we specifying how much of the output we want to spend because we have to spend the entire output (a \"UTXO\" short for \"Unspent Transaction Output\"). Once we consume the entire UTXO, we are free to \"chunk up\" its values however many outputs we like. For the index part, we want to spend the\n",
    "amount from the first output with index 0 because that's the output associated with our own address. The second output\n",
    "is for some unknown address that we don'a have control to.\n",
    "\n",
    "`script_sig` is the field that the digital signature will go, cryptographically signing the desired transaction with out private key and\n",
    "effectively saying \"I approve this transaction as the possessor of the private key whose public key hashes to e0a93e8171c874d2688f113290ce425fdbe46969\".\n",
    "\n",
    "`sequence` was originally implemented by Satoshi but has very limited uses today and we just ignore it.\n",
    "\n",
    "__Calculate the fee.__ So, our data structure defined above references Inputs of our next transaction (1 input). Next, let's create data structure for two outputs. As a first setp, let's calculate the tip that we are going to give to the winning miner. In practice, users rarely\n",
    "specify the tips themselves and software wallets will automatically include best current rates into our transaction. Since here we\n",
    "are doing everything from scratch, let's calculate how much we plan to tip. In order to do that, we can either check some \"market rate\"\n",
    "available on some websites or we can look at the transactions in the block that has our transaction and get a rough estimate of the current\n",
    "market rate. It seems like the fee is around 65 satoshi/byte. So, let's try to go with a relatively generous fee of 100 satoshi/byte.\n",
    "If you recall, the size of our transaction was 228 bytes. Let's round it to 250 bytes, so the fee will be 25,000 satoshi. \n",
    "We have 0.01490097 BTC which is equivalent to 1,490,097 satoshi. Let's send 750,000 satoshi to our second address and the rest\n",
    "`(1,490,097 - 25,000 - 750,000) = 715,097` satoshi back to us."
   ]
  },
  {
   "cell_type": "code",
   "execution_count": 99,
   "id": "e8f074b7-62a3-4f31-a7f7-c6b41ed59ac2",
   "metadata": {},
   "outputs": [],
   "source": [
    "@dataclass\n",
    "class TxOut:\n",
    "    amount: int # in units of satoshis (1e-8 of bitcoin)\n",
    "    script_pubkey: Script = None # locking script\n",
    "    \n",
    "tx_out1 = TxOut(\n",
    "    amount = 750000 # As in the \"Calculating the fee\", we will send this 750,000 sat to our target address\n",
    ")\n",
    "tx_out2 = TxOut(\n",
    "    amount = 715097 # back to us\n",
    ")\n",
    "# the fee of 25,000 sat does not need to be manually apecified, the miner will claim it"
   ]
  },
  {
   "cell_type": "markdown",
   "id": "8575f0bc-1701-4ee7-bfde-d6c6fbb19eed",
   "metadata": {},
   "source": [
    "---\n",
    "__Populating the locking scripts__. Next, we populate the `script_pubkey` \"locking script\" for both of these outputs. What we want to achieve under the hood is to specify the conditions under which each output can be spent by some future transactions. To indicate the ownership of both of these outputs we basically want to specify the public key hash of whoever can spend the output. Except we have to dress that up with the \n",
    "\"rich scripting language\" padding. Ok here we go.\n",
    "\n",
    "If we recall the locking script in the transaction output, when we checked block explorer to see the transaction details, the public key hash of the owner of each output was sandwiched between a few Bitcoin Scripting Language op codes:\n",
    "\n",
    "`OP_DUP`\n",
    "\n",
    "`OP_HASH160`\n",
    "\n",
    "`e0a93e8171c874d2688f113290ce425fdbe46969`\n",
    "\n",
    "`OP_EQUALVERIFY`\n",
    "\n",
    "`OP_CHECKSIG`\n",
    "\n",
    "Let's try to understand these several special-purpose instructions in bitcoin script language (Reference: [Bitcoin and CryptoCurrency Technologies](https://www.amazon.ca/Bitcoin-Cryptocurrency-Technologies-Comprehensive-Introduction/dp/0691171696)). First of all, the scripting language is\n",
    "stack-based. What that means is that each insturction is executed exactly once, in a linear manner. In particular, there are no\n",
    "loops in the Bitcoin scripting language. \n",
    "1. First we have the duplicate instruction, `OP_DUP`. What it does is to push a copy of the piblic key onto the top of the stack.\n",
    "2. Next instruction is `OP_HASH160`, which tells us to pop the top stack value, compute its cryptographic hash, and push the result\n",
    "onto the top of the stack. It hashes twice: first using SHA256 and then RIPEMD160.\n",
    "\n",
    "When this instruction finishes executing, we have replaced the public key on top of the stack with its hash.\n",
    "\n",
    "3. We do one more push of data on the stack. Recall that this data was specified by the sender of the referenced transaction. It is the hash\n",
    "of the public key that the sender specified (for instance, I specify the hash of the public key of the recipients in my outgoing \n",
    "tx.). The corresponding private key must be used to generate the digital signature to redeem these coins. At this point we have two values\n",
    "at the top of the stack: the hash of the public key (specified by the sender) and the hash of the public key that would be used by the recipient when trying to claim the coins.\n",
    "\n",
    "4. Next, `OP_EQUALVERIFY` instruction executes, which, you might guess, checks these two hashes at the top of the stack are equal. \n",
    "If not, an error will be thrown. This operation will consume two values at the top and the stack now only has two items: a signature and the public key.\n",
    "\n",
    "Now, we have already checked that the publick key is in fact the public key specified in the transaction. We still need to do one more\n",
    "check, which is signature. We need to check the signature is valid.\n",
    "\n",
    "5. Instruction `OP_CHECKSIG` does the entire signature verification. The logic is that this instruction uses public key to verify the signature is valid for the entire transaciton.\n",
    "\n",
    "Once all these instructions are executed, there is nothing left on the stack. Provided no errors occurred, the output of this script will be `true`, indicating that the transaction is valid.\n",
    "\n",
    "---\n",
    "We need to create this same structure and encode it into bytes, but we want to swap out the public key hash with the new owner's hashes"
   ]
  },
  {
   "cell_type": "code",
   "execution_count": 101,
   "id": "34e1fd3a-8089-46ef-aa1a-884eda5404be",
   "metadata": {},
   "outputs": [
    {
     "name": "stdout",
     "output_type": "stream",
     "text": [
      "1976a914ef8f69340792be772a65b8a094ed0188f454688788ac\n",
      "1976a914e0a93e8171c874d2688f113290ce425fdbe4696988ac\n"
     ]
    }
   ],
   "source": [
    "def encode_int(i, nbytes, encoding='little'):\n",
    "    \"\"\" encode integer i into given number of bytes using a given byte ordering \"\"\"\n",
    "    return i.to_bytes(nbytes, encoding)\n",
    "\n",
    "def encode_variant(i):\n",
    "    \"\"\" encode a (possible but rarely large) integer into bytes with a super simple compression scheme \"\"\"\n",
    "    if i < 0xfd:\n",
    "        return bytes([i])\n",
    "    elif i < 0x10000:\n",
    "        return b'\\xfd' + encode_int(i, 2)\n",
    "    elif i < 0x100000000:\n",
    "        return b'\\xfe' + encode_int(i, 4)\n",
    "    elif i < 0x10000000000000000:\n",
    "        return b'\\xff' + encode_int(i, 8)\n",
    "    else:\n",
    "        raise ValueError(\"integer too large: %d\" % (i, ))\n",
    "        \n",
    "@dataclass\n",
    "class Script:\n",
    "    cmds: List[Union[int, bytes]]\n",
    "    \n",
    "    def encode(self):\n",
    "        out = []\n",
    "        for cmd in self.cmds:\n",
    "            if isinstance(cmd, int):\n",
    "                # an int is just an opcode, encode as a single byte\n",
    "                out += [encode_int(cmd, 1)]\n",
    "            elif isinstance(cmd, bytes):\n",
    "                # bytes represent an element, encode its length and then content\n",
    "                length = len(cmd)\n",
    "                assert length < 75 # any longer than this requires some tedious handling that we will skip here\n",
    "                out += [encode_int(length, 1), cmd]\n",
    "        \n",
    "        ret = b''.join(out)\n",
    "        return encode_variant(len(ret)) + ret\n",
    "    \n",
    "# The first output will go to our second wallet\n",
    "out1_pkb_hash = PublicKey.from_point(public_key2).encode(compressed=True, hash160=True)\n",
    "out1_script = Script([118, 169, out1_pkb_hash, 136, 172]) # OP_DUP, OP_HASH160, <hash>, OP_EQUALVERIFY, OP_CHECKSIG\n",
    "print(out1_script.encode().hex())\n",
    "\n",
    "# teh second output will go back to us\n",
    "out2_pkb_hash = PublicKey.from_point(public_key).encode(compressed=True, hash160=True)\n",
    "out2_script = Script([118, 169, out2_pkb_hash, 136, 172])\n",
    "print(out2_script.encode().hex())"
   ]
  },
  {
   "cell_type": "markdown",
   "id": "72f166bc-1493-43e7-a08f-61f70da59309",
   "metadata": {},
   "source": [
    "For those who might wonder about those four numbers (118, 169, 136, and 172), these are the opcode for script instructions. \n",
    "For instance, Opcode for `OP_DUP` is 118 and 172 for `CHECKSIG`.\n",
    "\n",
    "Reference: https://en.bitcoin.it/wiki/Script"
   ]
  },
  {
   "cell_type": "markdown",
   "id": "d7aeda8d-12ac-4741-8d42-e02197943f49",
   "metadata": {},
   "source": [
    "Okay, now we are ready to officially declare the owners of both outputs of our transaction \n",
    "by specifying the public key hashes (padded by the Script Opcodes). We'll see how these locking scripts work for the Outputs when we create\n",
    "the unlocking script for the Input. Basically, when the unlocking happens for inputs, transaction happens and Output is generated, which will\n",
    "be followed by a locking scripts for the Outputs. For now, try to understand that we are effectively declaring the owner of each output UTXO\n",
    "by identifying a specific public key hash. With the locking script specified as above, only the person who has the original public key \n",
    "(and its associated secret key) will be able to spend the UTXO."
   ]
  },
  {
   "cell_type": "code",
   "execution_count": 103,
   "id": "f55bda91-9fea-43e6-a603-0ce231adca29",
   "metadata": {},
   "outputs": [],
   "source": [
    "tx_out1.script_pubkey = out1_script\n",
    "tx_out2.script_pubkey = out2_script"
   ]
  },
  {
   "cell_type": "markdown",
   "id": "7fbdd1a4-bc98-4e15-a7cb-8aebd5ff9b8b",
   "metadata": {},
   "source": [
    "## Digital Signature"
   ]
  },
  {
   "cell_type": "markdown",
   "id": "30780b94-9733-43b3-b30c-a2e92864f6da",
   "metadata": {},
   "source": [
    "If we look at the transaction details for our [faucet transaction](https://www.blockchain.com/btc-testnet/tx/b60c6b4fca235abd0990f275c2dbeccec479864d597afc1c89e1515257c45342), we can see a field in the Inputs called `Sigscript`. Here what we\n",
    "want to accomplish is that we want to create a digital signature that effectively says \"_I, the owner of the private key associated with the\n",
    "public key hash on the referenced transaction's output's locking script approve the spend of this UTXO as an input of this transaction._\"\n",
    "\n",
    "This is where Bitcoin gets pretty fancy and it turns out you can only sign one thing in Bitcoin - an entire transaction. \n",
    "You can actually only sign parts of Transactions, a dn a number of signatures can be assembled from a number of parties and combined in\n",
    "various ways. But Bitcoin says \"No, I will just sign once on the entire transaciton.\" We next construct the unlocking script specifically\n",
    "to only specify the locking script of the exact form above (OP_DUP, OP_HASH160, <hash>, OP_EQUALVERIFY, OP_CHECKSIG).\n",
    "    \n",
    "Coouple of things we need to do:\n",
    "    1. We need to create a pure bytes \"message\" what we will be digitally signing. In this case, the message is the encoding of\n",
    "    the entire transaction. This is weird because we haven't finished encoding the entire transaction into bytes because we are still missing\n",
    "    our signature. This is what we are currently working on. What do we do? The rule is to replace the encoding of the `script_sig` with the\n",
    "    `script_pubkey` of the transaction output this input is pointing back to. All other transaction input's `script_sig` is also replaced\n",
    "    with an empty script because I just need to contribute my own signature and others will contribute their own signatures in their\n",
    "    script.\n",
    "    \n",
    "    We need the final data structure, the actual Transaction, in order to encode the entire transaction into the bytes message. It will be\n",
    "    a container for a list of `TxIn`'s and list of `TxOut`'s: the inputs and outputs. We then implement the serialization for the new `Tx` class, and also the serialization of `TxIn` and `TxOut` class, so we can serialize the entire transaction to bytes.\n",
    "    \n",
    "---\n",
    "Wow, that is a lot. Let's see the code in action."
   ]
  },
  {
   "cell_type": "code",
   "execution_count": 114,
   "id": "937bf604-e4a3-4319-855b-83f49c8667c4",
   "metadata": {},
   "outputs": [],
   "source": [
    "@dataclass\n",
    "class Tx:\n",
    "    version: int\n",
    "    tx_ins: List[TxIn]\n",
    "    tx_outs: List[TxOut]\n",
    "    locktime: int = 0\n",
    "    \n",
    "    def encode(self, sig_index=-1) -> bytes:\n",
    "        \"\"\"\n",
    "        Encode this transaction as bytes.\n",
    "        If sig_index is given then return the modified transaction \n",
    "        encoding of this tx with respect to the single input index.\n",
    "        This result then constitutes the \"message\" that gets signed\n",
    "        by the aspiring transactor of this input.\n",
    "        \"\"\"\n",
    "        out = []\n",
    "        # encode metadata\n",
    "        out += [encode_int(self.version, 4)]\n",
    "        # encode inputs\n",
    "        out += [encode_variant(len(self.tx_ins))]\n",
    "        if sig_index == -1:\n",
    "            # we are just serializing a fully formed transaction\n",
    "            out += [tx_in.encode() for tx_in in self.tx_ins]\n",
    "        else:\n",
    "            # used when crafting digital signature for a specific input index\n",
    "            out += [tx_in.encode(script_override=(sig_index == i)) \n",
    "                    for i, tx_in in enumerate(self.tx_ins)]\n",
    "\n",
    "        # encode outputs\n",
    "        out += [encode_variant(len(self.tx_outs))]\n",
    "        out += [tx_out.encode() for tx_out in self.tx_outs]\n",
    "        # encode other metadata\n",
    "        out += [encode_int(self.locktime, 4)]\n",
    "        out += [encode_int(1, 4) if sig_index != -1 else b''] # 1 = SIGHASH_ALL\n",
    "        return b''.join(out)\n",
    "\n",
    "# We also need to know how to encode TxIn. This is just serialization protocol.\n",
    "def txin_encode(self, script_override=None):\n",
    "    out = []\n",
    "    out += [self.prev_tx[::-1]] # little endian vs big endian encodings\n",
    "    out += [encode_int(self.prev_index, 4)]\n",
    "    \n",
    "    # three scenarios for signature replacement\n",
    "    if script_override is None:\n",
    "        # None = just sue the actual script\n",
    "        out += [self.script_sig.encode()]\n",
    "    elif script_override is True:\n",
    "        # True = override the script with the script_pubkey of the associated input\n",
    "        out += [self.prev_tx_script_pubkey.encode()]\n",
    "    elif script_override is False:\n",
    "        # False = override with an empty script\n",
    "        out += [Script([]).encode()]\n",
    "    else:\n",
    "        raise ValueError(\"script_override must be one of None|True|False\")\n",
    "        \n",
    "    out += [encode_int(self.sequence, 4)]\n",
    "    return b''.join(out)\n",
    "\n",
    "TxIn.encode = txin_encode # monkey patch into the class\n",
    "\n",
    "# and TxOut as well\n",
    "def txout_encode(self):\n",
    "    out = []\n",
    "    out += [encode_int(self.amount, 8)]\n",
    "    out += [self.script_pubkey.encode()]\n",
    "    return b''.join(out)\n",
    "\n",
    "TxOut.encode = txout_encode # monkey patch into the class\n",
    "\n",
    "tx = Tx(\n",
    "    version = 1,\n",
    "    tx_ins = [tx_in],\n",
    "    tx_outs = [tx_out1, tx_out2],\n",
    ")"
   ]
  },
  {
   "cell_type": "markdown",
   "id": "40f9d4e0-5a50-4254-8588-fa45a4688146",
   "metadata": {},
   "source": [
    "We need to recreate the data structure of the first output (associated with our first address) as a script since the Block Explorer website\n",
    "does not allow us to get this in the bytes form. Again, the reason why we want to do is that we need to sign the entire transaction but \n",
    "we don't have `script_sig`. So we replace it with the public key hash of the output from previous transaction. [Here](https://www.blockchain.com/btc-testnet/tx/b60c6b4fca235abd0990f275c2dbeccec479864d597afc1c89e1515257c45342) is the link for our very first faucet transaction that we are referring to. In our case, we are trying to spend its Output at Index 0, and the script_pubkey is, again\n",
    "\n",
    "`OP_DUP`\n",
    "\n",
    "`OP_HASH160`\n",
    "\n",
    "`e0a93e8171c874d2688f113290ce425fdbe46969`\n",
    "\n",
    "`OP_EQUALVERIFY`\n",
    "\n",
    "`OP_CHECKSIG`\n",
    "\n",
    "We will re-create the data structures as a Script:"
   ]
  },
  {
   "cell_type": "code",
   "execution_count": 115,
   "id": "4c45da2d-b743-4ae1-a9e3-6094e147d401",
   "metadata": {},
   "outputs": [
    {
     "name": "stdout",
     "output_type": "stream",
     "text": [
      "recall out2_pkb_hash is just raw bytes of the hash of public_key:  e0a93e8171c874d2688f113290ce425fdbe46969\n",
      "1976a914e0a93e8171c874d2688f113290ce425fdbe4696988ac\n"
     ]
    }
   ],
   "source": [
    "source_script = Script([118, 169, out2_pkb_hash, 136, 172])\n",
    "print(\"recall out2_pkb_hash is just raw bytes of the hash of public_key: \", out2_pkb_hash.hex())\n",
    "print(source_script.encode().hex()) # we can get the bytes of the script_pubkey now"
   ]
  },
  {
   "cell_type": "code",
   "execution_count": 116,
   "id": "a240f261-ce39-490c-b866-2bae4dae06d4",
   "metadata": {},
   "outputs": [
    {
     "data": {
      "text/plain": [
       "'01000000014253c4575251e1891cfc7a594d8679c4ceecdbc275f29009bd5a23ca4f6b0cb6000000001976a914e0a93e8171c874d2688f113290ce425fdbe4696988acffffffff02b0710b00000000001976a914ef8f69340792be772a65b8a094ed0188f454688788ac59e90a00000000001976a914e0a93e8171c874d2688f113290ce425fdbe4696988ac0000000001000000'"
      ]
     },
     "execution_count": 116,
     "metadata": {},
     "output_type": "execute_result"
    }
   ],
   "source": [
    "# monkey patch this into the input of the transaction we are trying to sign and construct\n",
    "tx_in.prev_tx_script_pubkey = source_script\n",
    "\n",
    "# get the \"message\" we need to digitally sign\n",
    "message = tx.encode(sig_index = 0)\n",
    "message.hex()"
   ]
  },
  {
   "cell_type": "markdown",
   "id": "b6bd63f4-cf62-402f-af0b-91ffeca150ea",
   "metadata": {},
   "source": [
    "Okay, the term \"monkey patch\" came up multiple times and at first I thought it is just a word for fun. But later it seemed like an actual\n",
    "operations. And yes, indeed, it is an actual programming terminology. [The definition](https://en.wikipedia.org/wiki/Monkey_patch) \n",
    "from wikipedia says that \"A monkey patch is a way for a program to extend or modify supporting system software locally (affecting only the\n",
    "running instance of the program).\" The below Python example monkey-patches the value of `Pi` from standard Python math library to make it\n",
    "compliant with the India Pi Bill."
   ]
  },
  {
   "cell_type": "code",
   "execution_count": 117,
   "id": "eb78110c-d4e4-4ede-97ea-b13102732c34",
   "metadata": {},
   "outputs": [
    {
     "name": "stdout",
     "output_type": "stream",
     "text": [
      "3.141592653589793\n"
     ]
    },
    {
     "data": {
      "text/plain": [
       "3.2"
      ]
     },
     "execution_count": 117,
     "metadata": {},
     "output_type": "execute_result"
    }
   ],
   "source": [
    "import math\n",
    "print(math.pi)\n",
    "math.pi = 3.2 # monkey-patch the value of Pi in the math module\n",
    "math.pi"
   ]
  },
  {
   "cell_type": "code",
   "execution_count": 120,
   "id": "68409a38-79f8-4549-8555-28cca69ebdf2",
   "metadata": {},
   "outputs": [
    {
     "data": {
      "text/plain": [
       "3.2"
      ]
     },
     "execution_count": 120,
     "metadata": {},
     "output_type": "execute_result"
    }
   ],
   "source": [
    "# After we restart and run the code below again, Pi value will go back to 3.1415926...\n",
    "import math\n",
    "math.pi"
   ]
  },
  {
   "cell_type": "markdown",
   "id": "6c2e0f04-a371-43a9-8e32-f34c219ea15e",
   "metadata": {},
   "source": [
    "---\n",
    "Okay, enough of a detour. Let's pause a moment. There are lots of things to digest here. First of all, what did we do? we have encoded the transaction into bytes to create a \"message\", in the digital signature lingo. Let's think about what the above bytes encode, and what it is that we are about to sign. Couple of things we did in the process:\n",
    "- We identify the exact inputs of this transaction by referencing the outputs of a specific previous transactions.\n",
    "- We also identify the exact outputs of this very specific transaction (not yet executed, it is newly about to be minted UTXOs, so to speak) - - We also identify their `script_pubkey` fields, which in the most common case declare an owner of each output via their public key hash wrapped up in a script.\n",
    "\n",
    "So, what this message really encodes is the inputs and the new outputs, their amounts, and their owners (via locking scripts specifying the public key hash of each owner.)\n",
    "\n",
    "---\n",
    "Great. We are now ready to digitally sign the message with out private key. The actual signature itself is a tuple of two integers `(r, s)`. As with Elliptic Curve Cryptography (ECC) above, we don't cover the full mathematical details of the Elliptic Curve Digital Signature Algorithm (ECDSA). Instead we use the code to understand the basic mechanism of it. As we know it, digital signarure consists of three components:\n",
    "- private/public key pair generation, which we have already done.\n",
    "- sign the message to generate a signature.\n",
    "- verify the signature.\n",
    "\n",
    "The last two components are implemented below."
   ]
  },
  {
   "cell_type": "code",
   "execution_count": 122,
   "id": "7903e1f9-b625-4644-ac56-d28b2934507c",
   "metadata": {},
   "outputs": [
    {
     "data": {
      "text/plain": [
       "Signature(r=6490053236317912098198246005738199062818346316985474975194943187922392493408, s=55151421285902115870196508307045006518952914335579462009163427116513860522215)"
      ]
     },
     "execution_count": 122,
     "metadata": {},
     "output_type": "execute_result"
    }
   ],
   "source": [
    "@dataclass\n",
    "class Signature:\n",
    "    r: int\n",
    "    s: int\n",
    "    \n",
    "def sign(secret_key: int, message: bytes) -> Signature:\n",
    "    # the order of the elliptic curve used in bitcoin\n",
    "    n = bitcoin_gen.n\n",
    "    \n",
    "    # double hash the message and convert to integer\n",
    "    z = int.from_bytes(sha256(sha256(message)), 'big')\n",
    "    \n",
    "    # generate a new secret/public key pair at random\n",
    "    sk = random.randrange(1, n)\n",
    "    P = sk * bitcoin_gen.G\n",
    "    \n",
    "    # Calculate the signature\n",
    "    r = P.x\n",
    "    s = inv(sk, n) * (z + secret_key * r) % n\n",
    "    if s > n / 2:\n",
    "        s = n - s\n",
    "    \n",
    "    sig = Signature(r, s)\n",
    "    return sig\n",
    "\n",
    "def verify(public_key: Point, message: bytes, sig: Signature) -> bool:\n",
    "    # just a stub for reference on how a signature would be verified in terms of the API\n",
    "    # we don't need to verify any signatures to craft a transaction, but we would if we were mining\n",
    "    pass\n",
    "\n",
    "random.seed(int.from_bytes(sha256(message), 'big')) # see note below\n",
    "sig = sign(secret_key, message)\n",
    "sig"
   ]
  },
  {
   "cell_type": "markdown",
   "id": "c875d408-5fe4-473d-9d3f-b0b84372674c",
   "metadata": {},
   "source": [
    "---\n",
    "Let's now implement the `encode` function of a `Signature` so we can broadcast it over the Bitcoin protocol. Basically, an ECDSA signature\n",
    "passed to various instructions in Bitcoin Script must be encoded using strict [DER Encdoding](https://en.bitcoin.it/wiki/BIP_0062#DER_encoding). We cannot just use the raw signature generated by our Signature algorithm. Bitcoin involved with various encoding\n",
    "and hashing almost eerywhere."
   ]
  },
  {
   "cell_type": "code",
   "execution_count": 123,
   "id": "867746f1-e8a4-468a-9bfb-25eab45d43eb",
   "metadata": {},
   "outputs": [
    {
     "data": {
      "text/plain": [
       "'304402200e593d6dd30b5b5fb948803a8fd64a938862eb64b961a8ca75616c4a8dccad60022079ee99268738f81621108256f103863327c6a588ba1a515286041ce444a810e7'"
      ]
     },
     "execution_count": 123,
     "metadata": {},
     "output_type": "execute_result"
    }
   ],
   "source": [
    "def signature_encode(self) -> bytes:\n",
    "    \"\"\" return the DER encoding of this signature\"\"\"\n",
    "    \n",
    "    def dern(n):\n",
    "        nb = n.to_bytes(32, byteorder='big')\n",
    "        nb = nb.lstrip(b'\\x00') # strip leading zeros\n",
    "        nb = (b'\\x00' if nb[0] >= 0x80 else b'') + nb # prepend 0x00 if first byte >= 0x80\n",
    "        return nb\n",
    "    rb = dern(self.r)\n",
    "    sb = dern(self.s)\n",
    "    content = b''.join([bytes([0x02, len(rb)]), rb, bytes([0x02, len(sb)]), sb])\n",
    "    frame = b''.join([bytes([0x30, len(content)]), content])\n",
    "    return frame\n",
    "\n",
    "Signature.encode = signature_encode # again, monkey patch into the class\n",
    "sig_bytes = sig.encode()\n",
    "sig_bytes.hex()"
   ]
  },
  {
   "cell_type": "markdown",
   "id": "d7f3a776-456e-451b-9afe-1e8720786ca2",
   "metadata": {},
   "source": [
    "Bear with me. We are finally ready to generate the `script_sig` for the single input of our transaction. It will contain exactly two elements: \n",
    "\n",
    "1) the signature and\n",
    "2) the public key.\n",
    "\n",
    "It will become clear in a moment why we need these two elements."
   ]
  },
  {
   "cell_type": "code",
   "execution_count": 124,
   "id": "9e8782c5-cf27-4ac6-94bf-d970e3207ea1",
   "metadata": {},
   "outputs": [],
   "source": [
    "# Append 1 (= SIGHASH_ALL), indicating this DER signature we created encode 'ALL' of the tx (by far most common)\n",
    "sig_bytes_and_type = sig_bytes + b'\\x01'\n",
    "\n",
    "# Encode the public key into bytes. Notice we use hash160=False so we are revealing the full public key to Blockchain\n",
    "pubkey_bytes = PublicKey.from_point(public_key).encode(compressed=True, hash160=False)\n",
    "\n",
    "# Create a lightweight Script that just encoded those two things\n",
    "script_sig = Script([sig_bytes_and_type, pubkey_bytes])\n",
    "tx_in.script_sig = script_sig"
   ]
  },
  {
   "cell_type": "markdown",
   "id": "114c691d-1be5-4b40-bb64-7aad9bd9fae7",
   "metadata": {},
   "source": [
    "Now we created both locking scripts ('script_pubkey') and the unlocking scirpts (`script_sig`). \n",
    "Let's reflect how these two scripts interact in the Bitcoin scripting environmenet. On a high level, in the transaction validating process\n",
    "during mining, for each transaction input the two scripts get concatenated into a single script. We can see now that concatenating\n",
    "the two scripts will look like:\n",
    "\n",
    "`<sig_bytes_and_type>`\n",
    "\n",
    "`<pubkey_bytes>`\n",
    "\n",
    "`OP_DUP`\n",
    "\n",
    "`OP_HASH160`\n",
    "\n",
    "`<pubkey_hash_bytes>`\n",
    "\n",
    "`OP_EQUALVERIFY`\n",
    "\n",
    "`OP_CHECKSIG`\n",
    "\n",
    "This then gets executed top to bottom with a typical stack-based push/pop scheme, where any bytes get pushed into the stack, and any ops will\n",
    "consume some inputs and push some outputs. Several steps in order:\n",
    "\n",
    "- We push to the stack the signature and the pubkey.\n",
    "- The pubkey gets duplicated (OP_DUP).\n",
    "- The pubkey gets hashed (OP_HASH160).\n",
    "- The hash gets compared to the `pubkey_hash_bytes` (OP_EQUALVERIFY).\n",
    "- Finally the digital signature integrity is verified as having been signed by the associated private key."
   ]
  },
  {
   "cell_type": "markdown",
   "id": "64aa1c63-1c6b-4311-910b-bc1519d97211",
   "metadata": {},
   "source": [
    "---\n",
    "OKAYYYYYYYYYYY. We have now have all the necessary steps! Let's take a look at a repr of our fully constructed transaction again:"
   ]
  },
  {
   "cell_type": "code",
   "execution_count": 125,
   "id": "2e59a541-3548-4c93-a557-cf03145d8bc7",
   "metadata": {},
   "outputs": [
    {
     "data": {
      "text/plain": [
       "Tx(version=1, tx_ins=[TxIn(prev_tx=b'\\xb6\\x0ckO\\xca#Z\\xbd\\t\\x90\\xf2u\\xc2\\xdb\\xec\\xce\\xc4y\\x86MYz\\xfc\\x1c\\x89\\xe1QRW\\xc4SB', prev_index=0, script_sig=Script(cmds=[b\"0D\\x02 \\x0eY=m\\xd3\\x0b[_\\xb9H\\x80:\\x8f\\xd6J\\x93\\x88b\\xebd\\xb9a\\xa8\\xcaualJ\\x8d\\xcc\\xad`\\x02 y\\xee\\x99&\\x878\\xf8\\x16!\\x10\\x82V\\xf1\\x03\\x863'\\xc6\\xa5\\x88\\xba\\x1aQR\\x86\\x04\\x1c\\xe4D\\xa8\\x10\\xe7\\x01\", b'\\x03\\xfcb^\\x8c%w\\x9a9\\x9a\\xce{\\x8f\\xbc\\x0c\\x03p\\xee\\x886\\xae\\x9cV\\xa4\\xc9\\xde\\xa3\\xd0\\x06\\x80\\xeb\\x84H']), sequence=4294967295)], tx_outs=[TxOut(amount=750000, script_pubkey=Script(cmds=[118, 169, b'\\xef\\x8fi4\\x07\\x92\\xbew*e\\xb8\\xa0\\x94\\xed\\x01\\x88\\xf4Th\\x87', 136, 172])), TxOut(amount=715097, script_pubkey=Script(cmds=[118, 169, b'\\xe0\\xa9>\\x81q\\xc8t\\xd2h\\x8f\\x112\\x90\\xceB_\\xdb\\xe4ii', 136, 172]))], locktime=0)"
      ]
     },
     "execution_count": 125,
     "metadata": {},
     "output_type": "execute_result"
    }
   ],
   "source": [
    "tx"
   ]
  },
  {
   "cell_type": "markdown",
   "id": "b6cf1ea6-5b30-412c-9b00-4b5509092e81",
   "metadata": {},
   "source": [
    "As you can see, there is not that much to a Bitcoin transaction. Let's encode it (AGAIN!!) into bytes and show in hex:"
   ]
  },
  {
   "cell_type": "code",
   "execution_count": 126,
   "id": "656db3a3-d981-403e-8565-3dc5b98dc650",
   "metadata": {},
   "outputs": [
    {
     "data": {
      "text/plain": [
       "'01000000014253c4575251e1891cfc7a594d8679c4ceecdbc275f29009bd5a23ca4f6b0cb6000000006a47304402200e593d6dd30b5b5fb948803a8fd64a938862eb64b961a8ca75616c4a8dccad60022079ee99268738f81621108256f103863327c6a588ba1a515286041ce444a810e7012103fc625e8c25779a399ace7b8fbc0c0370ee8836ae9c56a4c9dea3d00680eb8448ffffffff02b0710b00000000001976a914ef8f69340792be772a65b8a094ed0188f454688788ac59e90a00000000001976a914e0a93e8171c874d2688f113290ce425fdbe4696988ac00000000'"
      ]
     },
     "execution_count": 126,
     "metadata": {},
     "output_type": "execute_result"
    }
   ],
   "source": [
    "tx.encode().hex()"
   ]
  },
  {
   "cell_type": "code",
   "execution_count": 127,
   "id": "d56527b1-5190-4e94-85d9-054eac96c04b",
   "metadata": {},
   "outputs": [
    {
     "name": "stdout",
     "output_type": "stream",
     "text": [
      "Transaction size in bytes:  225\n"
     ]
    }
   ],
   "source": [
    "print(\"Transaction size in bytes: \", len(tx.encode()))"
   ]
  },
  {
   "cell_type": "markdown",
   "id": "d46e1c96-0639-49fe-bdfb-3ea3f5e6453c",
   "metadata": {},
   "source": [
    "Finally, let's calculate the id of our finished transaction:"
   ]
  },
  {
   "cell_type": "code",
   "execution_count": 130,
   "id": "c2a94b96-8733-421a-a0bc-f0d6ec8c0db6",
   "metadata": {},
   "outputs": [
    {
     "data": {
      "text/plain": [
       "'1ef85a75683cca2fc62983e46b10f1d634f345abe950bae97c4a326f1506a659'"
      ]
     },
     "execution_count": 130,
     "metadata": {},
     "output_type": "execute_result"
    }
   ],
   "source": [
    "def tx_id(self) -> str:\n",
    "    return sha256(sha256(self.encode()))[::-1].hex() # little/big endian conventions require byte order swap\n",
    "Tx.id = tx_id # monkey patch into the class\n",
    "\n",
    "tx.id() # once this transaction goes through, this will be its id"
   ]
  },
  {
   "cell_type": "markdown",
   "id": "4c30fd37-7981-4517-8c69-cb8b40559625",
   "metadata": {},
   "source": [
    "---\n",
    "At last, we are ready to broadcast our transaction to Bitcoin nodes around the world. We're literally blasting out the 225 bytes (embedded into a standard Bitcoin protocol network envelope) that define our transaction. The Bitcoin nodes will decode it, validate it, and include it into the next block thet mine any second now. In English, those 225 bytes are saying \"hello Bitcoin network, how are you? Great. I woould like to create a new transaction that takes the output (UTXO) of the transaction _b60c6b4fca235abd0990f275c2dbeccec479864d597afc1c89e1515257c45342_ at index 0, and I would like to chunk its amount into two outputs, one going to the address n3MdbGZ9tw8ahJv8YEPAYFKSQrX8MywaoH for the amount of 750,000 sat and the rest going to the address n1zrQKCc6K3sKiFv5hLg8JoPNLPbTZpC9k for the amount of 715,097 sat. (It is understood that the rest of 25,000 sat will go to any miner who includes this transaction in their block). Here are two pieces of documentation providing that I can spend this UTXO: my public key, and the digital signature generated by the associated private key, of the above letter of intent. Kkthx!\""
   ]
  },
  {
   "cell_type": "markdown",
   "id": "58c55c02-f58d-4c71-a074-d9dd78876635",
   "metadata": {},
   "source": [
    "---\n",
    "Next step is to broadcast this out to the network and see if it sticks! We could include a simple client here that speaks the Bitcoin protocol over [`socket`](https://www.ibm.com/docs/en/zos/2.1.0?topic=services-what-is-socket) to communicate to the nodes - we'd first do the handshake (sending versions back and forth) and then broadcast the transaction bytes above using the `tx` message. However, the code is long and not that interesting. So we will instead use blockstream's helpful [tx/push](https://blockstream.info/testnet/tx/push) endpoint to broadcast the transaction. It's just a large textbox where we can copy paste our raw message hex exactly as above, and hit 'Broadcast'. If we'd like to do this manually with raw Bitcoin protocol, Andrej actually wrote a [SimpleNode](https://github.com/karpathy/cryptos/blob/main/cryptos/network.py) implementation and use that to communicate to a node over socket. But again here we just take the short cut.\n",
    "\n",
    "Okay then, let's broadcast."
   ]
  },
  {
   "cell_type": "code",
   "execution_count": 136,
   "id": "668e296a-560e-4274-b991-dc58455c5706",
   "metadata": {},
   "outputs": [],
   "source": [
    "import time\n",
    "time.sleep(1.0) # now we wait, for the network to execute the transaction and include it in a block"
   ]
  },
  {
   "cell_type": "markdown",
   "id": "04a0162d-c201-47a5-aa1b-0c97c82c52d8",
   "metadata": {},
   "source": [
    "Okay! [Here](https://www.blockchain.com/btc-testnet/tx/1ef85a75683cca2fc62983e46b10f1d634f345abe950bae97c4a326f1506a659) it is, our transaction. The network successfully decode our network and reflect all the paratemeter setup correctly. "
   ]
  },
  {
   "cell_type": "markdown",
   "id": "31712d62-eaa9-42a0-aac3-48effb6f580f",
   "metadata": {},
   "source": [
    "After some time (about 20 minutes passed since our broadcast), we can see that the transaction was confirmed and included in the block [2287071](https://www.blockchain.com/btc-testnet/block/2287071). This block includes 96 transactions and ours is one of them. We can also check the UTXO in both of our addresses:\n",
    "- The [first address](https://www.blockchain.com/btc-testnet/address/n1zrQKCc6K3sKiFv5hLg8JoPNLPbTZpC9k) should have a final balance of 0.00715097 BTC (715,097 sat). Yes, indeed, it has exactly that amount of balance.\n",
    "- The [second address](https://www.blockchain.com/btc-testnet/address/n3MdbGZ9tw8ahJv8YEPAYFKSQrX8MywaoH) should have a final balance of 0.00750000 BTC (750,000 sat we sent). Yes indeed!"
   ]
  },
  {
   "cell_type": "markdown",
   "id": "ce68e002-22da-4e00-b9fc-a8743ec7a75f",
   "metadata": {},
   "source": [
    "## Putting it all together: One more transaction"
   ]
  },
  {
   "cell_type": "markdown",
   "id": "71e113ce-6fe2-4271-8c6f-e174db34eff8",
   "metadata": {},
   "source": [
    "We do one last transaction where we create a third identity and cosolidate all of our remaining funds in this one wallet."
   ]
  },
  {
   "cell_type": "code",
   "execution_count": 135,
   "id": "2afae4ad-738c-422c-8894-e78c3308eeda",
   "metadata": {},
   "outputs": [
    {
     "name": "stdout",
     "output_type": "stream",
     "text": [
      "Our third Bitcoin identity: \n",
      "1. secret key:  11058750864351472101014175255902094429478011288825914740\n",
      "2. public key:  Point(curve=Curve(p=115792089237316195423570985008687907853269984665640564039457584007908834671663, a=0, b=7), x=97858751222056926777078573962560786698485894618880413980373189893650674640395, y=73318358187036259420899005894955755140809196002468074087856377234611185481964)\n",
      "3. Bitcoin address:  mmQLYiNRkMREqaSs7Sh5TDA8safWGHtmuN\n"
     ]
    }
   ],
   "source": [
    "secret_key3 = int.from_bytes(b\"super secret 3rd wallet\", 'big') # or just random.randrange(1, bitcoin_gen.n)\n",
    "assert 1 <= secret_key3 < bitcoin_gen.n\n",
    "public_key3 = secret_key3 * G\n",
    "address3 = PublicKey.from_point(public_key3).address(net='test', compressed=True)\n",
    "\n",
    "print(\"Our third Bitcoin identity: \")\n",
    "print(\"1. secret key: \", secret_key3)\n",
    "print(\"2. public key: \", public_key3)\n",
    "print(\"3. Bitcoin address: \", address3)"
   ]
  },
  {
   "cell_type": "markdown",
   "id": "be573e9b-7d1a-4c78-ac77-3772507fb8c2",
   "metadata": {},
   "source": [
    "---\n",
    "As mentioned above, we currently have 715,097 sat in out first wallet n1zrQKCc6K3sKiFv5hLg8JoPNLPbTZpC9k and 750,000 sat in our second wallet n3MdbGZ9tw8ahJv8YEPAYFKSQrX8MywaoH. What we want to do next is to create a transaction with these two inputs, and a single output into the third wallet mmQLYiNRkMREqaSs7Sh5TDA8safWGHtmuN we just created. As before, we will pay 10,000 sat this time as a fee, so we are sending ourselves $715,097 + 750,000 - 10,000 = 1,455,097 $ sat.\n",
    "\n",
    "In this process, we will try to further understand the steps of creating a Bitcoin transaction and confirm it on the Bitcoin network."
   ]
  },
  {
   "cell_type": "code",
   "execution_count": 142,
   "id": "41ab4882-c172-4c31-af15-6dfefcbd9692",
   "metadata": {},
   "outputs": [
    {
     "name": "stdout",
     "output_type": "stream",
     "text": [
      "8094f5cd6176dc0cc8f61575c9e6cf13b5f5ebd7a78f1eee70719fc0eb26fbf9\n",
      "Tx(version=1, tx_ins=[TxIn(prev_tx=b'\\x1e\\xf8Zuh<\\xca/\\xc6)\\x83\\xe4k\\x10\\xf1\\xd64\\xf3E\\xab\\xe9P\\xba\\xe9|J2o\\x15\\x06\\xa6Y', prev_index=0, script_sig=Script(cmds=[b'0E\\x02!\\x00\\xb1\\xeeFm\\x1b\\x12\\xf4&\\xdc\\xb6\\xfaU\\\\I\\nnI\\x9f\\t\\xe92\\x11\\x7fQ+\\xdd&\\x9a\\xea\\x0c\\x91\\xfd\\x02 }\\x02\\x04;3\\xb5\\x81=N0\\xdc\\xc8\\x9c\\xde\\x0b*^!1`\\xef\\xba7\\xa9\\x8bL\\x82\\x83\\x1f<\\xb3\\xee\\x01', b'\\x02\\x98p\\xdd\\xf0w\\x86a\\xd0\\x03\\x1e\\x80\\x90I\\x8aa\\x16MJ\\x0eh\\xf2\\xcc\\xcc9\\xf1\\x8fc\\xf8\\x8a\\x12\\n\\xf3']), sequence=4294967295), TxIn(prev_tx=b'\\x1e\\xf8Zuh<\\xca/\\xc6)\\x83\\xe4k\\x10\\xf1\\xd64\\xf3E\\xab\\xe9P\\xba\\xe9|J2o\\x15\\x06\\xa6Y', prev_index=1, script_sig=Script(cmds=[b\"0E\\x02!\\x00\\xea\\xfe\\x02f\\x7f'\\x16oy\\x11\\x82\\xe8\\x87\\xd0\\xd2\\xeb\\x92\\xfe\\xa6\\xd1\\xae\\xa5l\\xbar\\x87O\\x10>\\x94S\\xda\\x02 ]\\xaf\\x88\\x11\\xda\\xb0:\\x96'QRk\\xcf6\\x1fIQ*\\xea\\\\v\\xd2\\x1d\\xc5\\x99\\x96#m\\x06s\\x00\\xf5\\x01\", b'\\x03\\xfcb^\\x8c%w\\x9a9\\x9a\\xce{\\x8f\\xbc\\x0c\\x03p\\xee\\x886\\xae\\x9cV\\xa4\\xc9\\xde\\xa3\\xd0\\x06\\x80\\xeb\\x84H']), sequence=4294967295)], tx_outs=[TxOut(amount=1455097, script_pubkey=Script(cmds=[118, 169, b'@\\x90k+\\xe3\\xddk\\xd0\\xd6\\xa8\\x99\\xfb\\xd5\\x0e\\xc2&\\x13-\\xea\\x82', 136, 172]))], locktime=0)\n",
      "****************************************************************************************************\n",
      "010000000259a606156f324a7ce9ba50e9ab45f334d6f1106be48329c62fca3c68755af81e000000006b483045022100b1ee466d1b12f426dcb6fa555c490a6e499f09e932117f512bdd269aea0c91fd02207d02043b33b5813d4e30dcc89cde0b2a5e213160efba37a98b4c82831f3cb3ee0121029870ddf0778661d0031e8090498a61164d4a0e68f2cccc39f18f63f88a120af3ffffffff59a606156f324a7ce9ba50e9ab45f334d6f1106be48329c62fca3c68755af81e010000006b483045022100eafe02667f27166f791182e887d0d2eb92fea6d1aea56cba72874f103e9453da02205daf8811dab03a962751526bcf361f49512aea5c76d21dc59996236d067300f5012103fc625e8c25779a399ace7b8fbc0c0370ee8836ae9c56a4c9dea3d00680eb8448ffffffff01f9331600000000001976a91440906b2be3dd6bd0d6a899fbd50ec226132dea8288ac00000000\n"
     ]
    }
   ],
   "source": [
    "# --------------------------------------------------------\n",
    "# Keep in mind that we have two inputs and one input in this transaction\n",
    "# first input of the transaction\n",
    "tx_in1 = TxIn(\n",
    "    prev_tx = bytes.fromhex('1ef85a75683cca2fc62983e46b10f1d634f345abe950bae97c4a326f1506a659'),\n",
    "    prev_index = 0,\n",
    "    script_sig = None, # digital signature to be inserted later\n",
    ")\n",
    "# reconstruct the script_pubkey locking this UTXO (note: it's the first output index in the\n",
    "# referenced transaction, but the owner is the second crypto identity/wallet we created earlier!)\n",
    "# recall this information is \"swapped in\" when we digitally sign the spend of this UTXO a bit later\n",
    "pkb_hash = PublicKey.from_point(public_key2).encode(compressed=True, hash160=True)\n",
    "tx_in1.prev_tx_script_pubkey = Script([118, 169, pkb_hash, 136, 172]) # OP_DUP, OP_HASH160, <hash>, OP_EQUALVERIFY, OP_CHECKSIG\n",
    "\n",
    "# -------------------------------------------------------\n",
    "# second input of the transaction\n",
    "tx_in2 = TxIn(\n",
    "    prev_tx = bytes.fromhex('1ef85a75683cca2fc62983e46b10f1d634f345abe950bae97c4a326f1506a659'),\n",
    "    prev_index = 1,\n",
    "    script_sig = None, # digital signature to be inserted later\n",
    ")\n",
    "pkb_hash = PublicKey.from_point(public_key).encode(compressed=True, hash160=True)\n",
    "tx_in2.prev_tx_script_pubkey = Script([118, 169, pkb_hash, 136, 172]) # OP_DUP, OP_HASH160, <hash>, OP_EQUALVERIFY, OP_CHECKSIG\n",
    "\n",
    "# ------------------------------------------------------\n",
    "# Define single output\n",
    "tx_out = TxOut(\n",
    "    amount = 1455097,\n",
    "    script_pubkey = None, # locking script, inserted separately right below\n",
    ")\n",
    "# declare the owner as identity 3 we created above, by inserting the public key hash into the Script \"padding\"\n",
    "out_pkb_hash = PublicKey.from_point(public_key3).encode(compressed=True, hash160=True)\n",
    "out_script = Script([118, 169, out_pkb_hash, 136, 172]) # OP_DUP, OP_HASH160, <hash>, OP_EQUALVERIFY, OP_CHECKSIG\n",
    "tx_out.script_pubkey = out_script\n",
    "\n",
    "# ------------------------------------------------------\n",
    "# create the aspiring transaction object\n",
    "tx = Tx(\n",
    "    version = 1,\n",
    "    tx_ins = [tx_in1, tx_in2], # 2 inputs this time.\n",
    "    tx_outs = [tx_out], # a single output\n",
    ")\n",
    "\n",
    "# -----------------------------------------------------\n",
    "# digitally sign the spend of the second input of this transaction\n",
    "# note that index 0 of the input is our second identity, so it must sign here\n",
    "message1 = tx.encode(sig_index = 0)\n",
    "random.seed(int.from_bytes(sha256(message1), 'big'))\n",
    "sig1 = sign(secret_key2, message1) # identity 2 signs\n",
    "sig_bytes_and_type1 = sig1.encode() + b'\\x01' # DER signature + SIGHASH_ALL\n",
    "pubkey_bytes = PublicKey.from_point(public_key2).encode(compressed=True, hash160=False)\n",
    "script_sig1 = Script([sig_bytes_and_type1, pubkey_bytes])\n",
    "tx_in1.script_sig = script_sig1\n",
    "\n",
    "# -----------------------------------------------------\n",
    "# digitally sign the spend of the second input of this transaction\n",
    "# note that index 1 of the input transaction is our first identity, so it signs here\n",
    "message2 = tx.encode(sig_index = 1)\n",
    "random.seed(int.from_bytes(sha256(message2), 'big'))\n",
    "sig2 = sign(secret_key, message2) # identity 1 signs\n",
    "sig_bytes_and_type2 = sig2.encode() + b'\\x01' # DER signature + SIGHASH_ALL\n",
    "pubkey_bytes = PublicKey.from_point(public_key).encode(compressed=True, hash160=False)\n",
    "script_sig2 = Script([sig_bytes_and_type2, pubkey_bytes])\n",
    "tx_in2.script_sig = script_sig2\n",
    "\n",
    "# and that should be it!\n",
    "print(tx.id())\n",
    "print(tx)\n",
    "print('*'*100)\n",
    "print(tx.encode().hex())"
   ]
  },
  {
   "cell_type": "markdown",
   "id": "8c6ef8dd-66ba-4b0a-a10d-7f3972a5a931",
   "metadata": {},
   "source": [
    "One thing I tried here is to mess up the secret key. I provided secret key of our first identity to the first input and secret key of our second identity to the second input. Recall that the first output in the previous transaction is associated with out second identity and second output with our first identity. As such, the secret keys I used were swapped into the wrong order. In this case, the verification should fail. Indeed, when I pushed the transaction to the Bitcoin network, I got the following message:\n",
    "\n",
    "`sendrawtransaction RPC error: {\"code\":-26,\"message\":\"mandatory-script-verify-flag-failed (Signature must be zero for failed CHECK(MULTI)SIG operation)\"}`\n",
    "\n",
    "I am not quite sure about the details of this error message but one thing I could tell is that the signature was the problem.\n",
    "\n",
    "Now, let's try to fix it with the correct secret keys and push it to the network again. The transaction went through successfully and we just wait for its confirmation. It might take at least 10 minutes."
   ]
  },
  {
   "cell_type": "code",
   "execution_count": 143,
   "id": "0335f39e-d2eb-44a2-8d1f-98ddbe8ea5d1",
   "metadata": {},
   "outputs": [],
   "source": [
    "import time; time.sleep(1.0)\n",
    "# in Bitcoin main net a block will take 10 minutes on average to mine\n",
    "# Proof of Work difficulty is dynamically adjusted to make it so"
   ]
  },
  {
   "cell_type": "markdown",
   "id": "b89586d3-df08-42e0-8137-d8d7fe0785ba",
   "metadata": {},
   "source": [
    "Okay, here we have [our transaction](https://www.blockchain.com/btc-testnet/tx/8094f5cd6176dc0cc8f61575c9e6cf13b5f5ebd7a78f1eee70719fc0eb26fbf9) confirmed by the network. The transaction was included in block [2287099](https://www.blockchain.com/btc-testnet/block/2287099) which has a total of 59 transactions. Sweet!!"
   ]
  },
  {
   "cell_type": "markdown",
   "id": "7f1cc4db-7521-4e59-bfc7-a0a2d8a14db9",
   "metadata": {},
   "source": [
    "## Bonus Exercise\n",
    "In this bonus exercise, we try to steal Andrej's bitcoins from his 3rd wallet (mgh4VjZx5MpkHRis9mDsF2ZcKLdXoP3oQ4) to our first wallet. Currently, [this 3rd wallet](https://www.blockchain.com/btc-testnet/address/mgh4VjZx5MpkHRis9mDsF2ZcKLdXoP3oQ4) has a final balance of 0.00146895 BTC. If done successfully, Andrej's wallet will show \"Final Balance\" of 0. Let's do it.\n",
    "\n",
    "First of all, we need to verify something. The final balance of this wallet is 0.00146895 BTC. But the most recent transaction resulted in an\n",
    "unspent 0.00105923 BTC, not exactly the final balance. So what is this final balance? After doing a little math, I realized that it is the sum of all unspent BTC from previous transacitons. There are total 14 transactions with unspent BTC (most of them are around 3000 sat). If we add all of them up, we will get the final balance of this wallet. This means that we have 14 inputs and one output in this particular transaction that we want to create. \n",
    "\n",
    "For instance, the [last transaction](https://www.blockchain.com/btc-testnet/tx/9f49a27b06cdc04c26b08a832bff2c5b0ada9a7bf295b4425d58cfbcdfccf736) resulted in an output of 0.00105932 BTC, which is 105,932 sat. \n",
    "\n",
    "Final balance of this address is 146,895 sat. Let's pay 10,000 sat for a fee and send the rest (136,895) to our first address we created."
   ]
  },
  {
   "cell_type": "code",
   "execution_count": 145,
   "id": "13ca2658-fc86-4e82-a0f4-dd24e8e21f04",
   "metadata": {},
   "outputs": [
    {
     "name": "stdout",
     "output_type": "stream",
     "text": [
      "Andrej's 3rd Bitcoin identity: \n",
      "1. secret key:  29595381593786747354608258168471648998894101022644411057647114205835530364276\n",
      "2. public key:  (10431688308521398859068831048649547920603040245302637088532768399600614938636, 74559974378244821290907538448690356815087741133062157870433812445804889333467)\n",
      "3. Bitcoin address:  mgh4VjZx5MpkHRis9mDsF2ZcKLdXoP3oQ4\n"
     ]
    }
   ],
   "source": [
    "# ---------------------------------------------------------\n",
    "# First, we record Andrej's third wallet's public key and private key\n",
    "secret_key_adj = 29595381593786747354608258168471648998894101022644411057647114205835530364276\n",
    "public_key_adj = secret_key_adj * G\n",
    "address_adj = PublicKey.from_point(public_key_adj).address(net='test', compressed=True)\n",
    "\n",
    "print(\"Andrej's 3rd Bitcoin identity: \")\n",
    "print(\"1. secret key: \", secret_key_adj)\n",
    "print(\"2. public key: \", (public_key_adj.x, public_key_adj.y))\n",
    "print(\"3. Bitcoin address: \", address_adj)"
   ]
  },
  {
   "cell_type": "code",
   "execution_count": 171,
   "id": "ac71cb3a-a73a-4a2f-b9c7-c2c26dd9bf9c",
   "metadata": {},
   "outputs": [
    {
     "name": "stdout",
     "output_type": "stream",
     "text": [
      "56e78607abce704b8c154656690b8c4471986fe97d9236bf8942bdf0a660d6cb\n",
      "Tx(version=1, tx_ins=[TxIn(prev_tx=b'\\x9fI\\xa2{\\x06\\xcd\\xc0L&\\xb0\\x8a\\x83+\\xff,[\\n\\xda\\x9a{\\xf2\\x95\\xb4B]X\\xcf\\xbc\\xdf\\xcc\\xf76', prev_index=1, script_sig=Script(cmds=[b\"0E\\x02!\\x00\\xb8\\x02\\xfe\\x13\\xc9\\x96\\xd7\\\\\\xc39'\\xd3\\xbe\\xa6\\xc3\\xf2\\xce\\xa1\\xba\\x85B\\xa4\\xfb\\xa0H\\x18\\xa71\\xd8j\\xa41\\x02 .\\xbe\\xec\\xab\\x99\\x9c6\\xa8C\\x87\\xabadW\\x07\\x9d>\\xaf\\x9a\\xf06Dl\\xcb\\xd6\\x8d\\x1d+K\\xed\\xf9\\xfd\\x01\", b'\\x03\\x17\\x10 X\\\\7#\\xa0@)\\xe5a\\xb8\\x9e\\xd2\\xd5\\xed\\xf9\\x04\\xb6\\xcaXa\\xcd`\\x92\\xc1L\\x88\\x04\\x98\\x0c']), sequence=4294967295)], tx_outs=[TxOut(amount=100932, script_pubkey=Script(cmds=[118, 169, b'\\xe0\\xa9>\\x81q\\xc8t\\xd2h\\x8f\\x112\\x90\\xceB_\\xdb\\xe4ii', 136, 172]))], locktime=0)\n",
      "*****************************************************************************************************************************\n",
      "010000000136f7ccdfbccf585d42b495f27b9ada0a5b2cff2b838ab0264cc0cd067ba2499f010000006b483045022100b802fe13c996d75cc33927d3bea6c3f2cea1ba8542a4fba04818a731d86aa43102202ebeecab999c36a84387ab616457079d3eaf9af036446ccbd68d1d2b4bedf9fd012103171020585c3723a04029e561b89ed2d5edf904b6ca5861cd6092c14c8804980cffffffff01448a0100000000001976a914e0a93e8171c874d2688f113290ce425fdbe4696988ac00000000\n"
     ]
    }
   ],
   "source": [
    "# the inputs of the transaction\n",
    "# there are total 13 inputs that have unspent BTC\n",
    "\n",
    "##################################################################################################################\n",
    "# first input of the transaction\n",
    "tx_in1 = TxIn(\n",
    "    prev_tx = bytes.fromhex('9f49a27b06cdc04c26b08a832bff2c5b0ada9a7bf295b4425d58cfbcdfccf736'),\n",
    "    prev_index = 1,\n",
    "    script_sig = None, # digital signature to be inserted later\n",
    ")\n",
    "# careful that it is the second output in the referened transaction\n",
    "pkb_hash = PublicKey.from_point(public_key_adj).encode(compressed=True, hash160=True)\n",
    "tx_in1.prev_tx_script_pubkey = Script([118, 169, pkb_hash, 136, 172]) # OP_DUP, OP_HASH160, <hash>, OP_EQUALVERIFY, OP_CHECKSIG\n",
    "\n",
    "# second input of the transaction\n",
    "tx_in2 = TxIn(\n",
    "    prev_tx = bytes.fromhex('76ff769a1e4af8b5c76cc245233e091dc98d1173d24a54703222e31e0bde46a1'),\n",
    "    prev_index = 0,\n",
    "    script_sig = None, # digital signature to be inserted later\n",
    ")\n",
    "# careful that it is the second output in the referened transaction\n",
    "pkb_hash = PublicKey.from_point(public_key_adj).encode(compressed=True, hash160=True)\n",
    "tx_in2.prev_tx_script_pubkey = Script([118, 169, pkb_hash, 136, 172]) # OP_DUP, OP_HASH160, <hash>, OP_EQUALVERIFY, OP_CHECKSIG\n",
    "\n",
    "# third input of the transaction\n",
    "tx_in3 = TxIn(\n",
    "    prev_tx = bytes.fromhex('be5c39844ba8603e3b5a025865938a6ebfe84dcd2bb2cf2b2b2a5d9e530f1cc7'),\n",
    "    prev_index = 0,\n",
    "    script_sig = None, # digital signature to be inserted later\n",
    ")\n",
    "\n",
    "pkb_hash = PublicKey.from_point(public_key_adj).encode(compressed=True, hash160=True)\n",
    "tx_in3.prev_tx_script_pubkey = Script([118, 169, pkb_hash, 136, 172]) # OP_DUP, OP_HASH160, <hash>, OP_EQUALVERIFY, OP_CHECKSIG\n",
    "\n",
    "# fourth input of the transaction\n",
    "tx_in4 = TxIn(\n",
    "    prev_tx = bytes.fromhex('cc06c637501e7dab7ddb3281088dee406970b5361b20949e5cb3106ad8bf04b2'),\n",
    "    prev_index = 0,\n",
    "    script_sig = None, # digital signature to be inserted later\n",
    ")\n",
    "\n",
    "pkb_hash = PublicKey.from_point(public_key_adj).encode(compressed=True, hash160=True)\n",
    "tx_in4.prev_tx_script_pubkey = Script([118, 169, pkb_hash, 136, 172]) # OP_DUP, OP_HASH160, <hash>, OP_EQUALVERIFY, OP_CHECKSIG\n",
    "\n",
    "# fifth input of the transaction\n",
    "tx_in5 = TxIn(\n",
    "    prev_tx = bytes.fromhex('5cb727d9d48815666c4097d36b8d813c6e18e4c4c50f8938752394cb87c6cd52'),\n",
    "    prev_index = 0,\n",
    "    script_sig = None, # digital signature to be inserted later\n",
    ")\n",
    "\n",
    "pkb_hash = PublicKey.from_point(public_key_adj).encode(compressed=True, hash160=True)\n",
    "tx_in5.prev_tx_script_pubkey = Script([118, 169, pkb_hash, 136, 172]) # OP_DUP, OP_HASH160, <hash>, OP_EQUALVERIFY, OP_CHECKSIG\n",
    "\n",
    "# sixth input of the transaction\n",
    "tx_in6 = TxIn(\n",
    "    prev_tx = bytes.fromhex('d46178df22f47403bb9c26c47d669d721e8c922ce86cf79d9a417e7481c5c849'),\n",
    "    prev_index = 0,\n",
    "    script_sig = None, # digital signature to be inserted later\n",
    ")\n",
    "\n",
    "pkb_hash = PublicKey.from_point(public_key_adj).encode(compressed=True, hash160=True)\n",
    "tx_in6.prev_tx_script_pubkey = Script([118, 169, pkb_hash, 136, 172]) # OP_DUP, OP_HASH160, <hash>, OP_EQUALVERIFY, OP_CHECKSIG\n",
    "\n",
    "# seventh input of the transaction\n",
    "tx_in7 = TxIn(\n",
    "    prev_tx = bytes.fromhex('a66ee3c602c99e82bce16c4055f655e528c0a74847699e4c31b660bc104bd35b'),\n",
    "    prev_index = 0,\n",
    "    script_sig = None, # digital signature to be inserted later\n",
    ")\n",
    "\n",
    "pkb_hash = PublicKey.from_point(public_key_adj).encode(compressed=True, hash160=True)\n",
    "tx_in7.prev_tx_script_pubkey = Script([118, 169, pkb_hash, 136, 172]) # OP_DUP, OP_HASH160, <hash>, OP_EQUALVERIFY, OP_CHECKSIG\n",
    "\n",
    "# eighth input of the transaction\n",
    "tx_in8 = TxIn(\n",
    "    prev_tx = bytes.fromhex('44a8c164e9cd09b4f5f65ec41b3cf39fccbf9198dfdeb4c3d3defc0c5f062fb6'),\n",
    "    prev_index = 0,\n",
    "    script_sig = None, # digital signature to be inserted later\n",
    ")\n",
    "\n",
    "pkb_hash = PublicKey.from_point(public_key_adj).encode(compressed=True, hash160=True)\n",
    "tx_in8.prev_tx_script_pubkey = Script([118, 169, pkb_hash, 136, 172]) # OP_DUP, OP_HASH160, <hash>, OP_EQUALVERIFY, OP_CHECKSIG\n",
    "\n",
    "# ninth input of the transaction\n",
    "tx_in9 = TxIn(\n",
    "    prev_tx = bytes.fromhex('242c91511c591feda682a9e32600feb9457ab41a11c69514224b32b29c75ac48'),\n",
    "    prev_index = 0,\n",
    "    script_sig = None, # digital signature to be inserted later\n",
    ")\n",
    "\n",
    "pkb_hash = PublicKey.from_point(public_key_adj).encode(compressed=True, hash160=True)\n",
    "tx_in9.prev_tx_script_pubkey = Script([118, 169, pkb_hash, 136, 172]) # OP_DUP, OP_HASH160, <hash>, OP_EQUALVERIFY, OP_CHECKSIG\n",
    "\n",
    "# tenth input of the transaction\n",
    "tx_in10 = TxIn(\n",
    "    prev_tx = bytes.fromhex('3f32605e933a18f29d09b9579e35f5f97ed0fd18a666f6e79672fee2aab7b2be'),\n",
    "    prev_index = 0,\n",
    "    script_sig = None, # digital signature to be inserted later\n",
    ")\n",
    "\n",
    "pkb_hash = PublicKey.from_point(public_key_adj).encode(compressed=True, hash160=True)\n",
    "tx_in10.prev_tx_script_pubkey = Script([118, 169, pkb_hash, 136, 172]) # OP_DUP, OP_HASH160, <hash>, OP_EQUALVERIFY, OP_CHECKSIG\n",
    "\n",
    "# eleventh input of the transaction\n",
    "tx_in11 = TxIn(\n",
    "    prev_tx = bytes.fromhex('180ff46b7c7c0c4564a181237925caa2d333780874fc85f59fad165eb13b22c0'),\n",
    "    prev_index = 0,\n",
    "    script_sig = None, # digital signature to be inserted later\n",
    ")\n",
    "\n",
    "pkb_hash = PublicKey.from_point(public_key_adj).encode(compressed=True, hash160=True)\n",
    "tx_in11.prev_tx_script_pubkey = Script([118, 169, pkb_hash, 136, 172]) # OP_DUP, OP_HASH160, <hash>, OP_EQUALVERIFY, OP_CHECKSIG\n",
    "\n",
    "# twelfth input of the transaction\n",
    "tx_in12 = TxIn(\n",
    "    prev_tx = bytes.fromhex('0384be704f251fe4fab7b4cf360304586e71101c74caeb934a2f0a94504b7f92'),\n",
    "    prev_index = 0,\n",
    "    script_sig = None, # digital signature to be inserted later\n",
    ")\n",
    "\n",
    "pkb_hash = PublicKey.from_point(public_key_adj).encode(compressed=True, hash160=True)\n",
    "tx_in12.prev_tx_script_pubkey = Script([118, 169, pkb_hash, 136, 172]) # OP_DUP, OP_HASH160, <hash>, OP_EQUALVERIFY, OP_CHECKSIG\n",
    "\n",
    "# thirteenth input of the transaction\n",
    "tx_in13 = TxIn(\n",
    "    prev_tx = bytes.fromhex('599dc4bddecff1d5463f012063df0e1104eaa9350bd872a0bbd4eec283239c8b'),\n",
    "    prev_index = 0,\n",
    "    script_sig = None, # digital signature to be inserted later\n",
    ")\n",
    "\n",
    "pkb_hash = PublicKey.from_point(public_key_adj).encode(compressed=True, hash160=True)\n",
    "tx_in13.prev_tx_script_pubkey = Script([118, 169, pkb_hash, 136, 172]) # OP_DUP, OP_HASH160, <hash>, OP_EQUALVERIFY, OP_CHECKSIG\n",
    "\n",
    "#####################################################################################################################\n",
    "\n",
    "# define the output\n",
    "tx_out = TxOut(\n",
    "    amount = 100932,\n",
    "    script_pubkey = None, # locking script, inserted separately below\n",
    ")\n",
    "\n",
    "# declare the owner as my first identity above, by inserting the public key hash into the Script 'padding'\n",
    "out_pkb_hash = PublicKey.from_point(public_key).encode(compressed=True, hash160=True)\n",
    "out_script = Script([118, 169, out_pkb_hash, 136, 172]) # OP_DUP, OP_HASH160, <hash>, OP_EQUALVERIFY, OP_CHECKSIG\n",
    "tx_out.script_pubkey = out_script\n",
    "\n",
    "# create the aspiring transaction objext\n",
    "tx = Tx(\n",
    "    version = 1,\n",
    "    # tx_ins = [tx_in1, tx_in2, tx_in3, tx_in4, tx_in5, tx_in6, tx_in7, tx_in8, tx_in9, tx_in10, tx_in11, tx_in12, tx_in13], # total 13 inputs\n",
    "    tx_ins = [tx_in1],\n",
    "    tx_outs = [tx_out], # single output\n",
    ")\n",
    "\n",
    "# digitally sign the spend of the input, we need to have the Andrej's private key\n",
    "\n",
    "message1 = tx.encode(sig_index = 1)\n",
    "random.seed(int.from_bytes(sha256(message1), 'big'))\n",
    "sig1 = sign(secret_key_adj, message1) # Andrej's third address signs\n",
    "sig_bytes_and_type1 = sig1.encode() + b'\\x01' # DER signature + SIGNHASH_ALL\n",
    "pubkey_bytes = PublicKey.from_point(public_key_adj).encode(compressed=True, hash160=False)\n",
    "script_sig1 = Script([sig_bytes_and_type1, pubkey_bytes])\n",
    "tx_in1.script_sig = script_sig1\n",
    "\n",
    "message2 = tx.encode(sig_index = 0)\n",
    "random.seed(int.from_bytes(sha256(message2), 'big'))\n",
    "sig2 = sign(secret_key_adj, message2) # Andrej's third address signs\n",
    "sig_bytes_and_type2 = sig2.encode() + b'\\x01' # DER signature + SIGNHASH_ALL\n",
    "pubkey_bytes = PublicKey.from_point(public_key_adj).encode(compressed=True, hash160=False)\n",
    "script_sig2 = Script([sig_bytes_and_type2, pubkey_bytes])\n",
    "tx_in2.script_sig = script_sig2\n",
    "\n",
    "message3 = tx.encode(sig_index = 0)\n",
    "random.seed(int.from_bytes(sha256(message3), 'big'))\n",
    "sig3 = sign(secret_key_adj, message3) # Andrej's third address signs\n",
    "sig_bytes_and_type3 = sig3.encode() + b'\\x01' # DER signature + SIGNHASH_ALL\n",
    "pubkey_bytes = PublicKey.from_point(public_key_adj).encode(compressed=True, hash160=False)\n",
    "script_sig3 = Script([sig_bytes_and_type3, pubkey_bytes])\n",
    "tx_in3.script_sig = script_sig3\n",
    "\n",
    "message4 = tx.encode(sig_index = 0)\n",
    "random.seed(int.from_bytes(sha256(message4), 'big'))\n",
    "sig4 = sign(secret_key_adj, message4) # Andrej's third address signs\n",
    "sig_bytes_and_type4 = sig4.encode() + b'\\x01' # DER signature + SIGNHASH_ALL\n",
    "pubkey_bytes = PublicKey.from_point(public_key_adj).encode(compressed=True, hash160=False)\n",
    "script_sig4 = Script([sig_bytes_and_type4, pubkey_bytes])\n",
    "tx_in4.script_sig = script_sig4\n",
    "\n",
    "message5 = tx.encode(sig_index = 0)\n",
    "random.seed(int.from_bytes(sha256(message5), 'big'))\n",
    "sig5 = sign(secret_key_adj, message5) # Andrej's third address signs\n",
    "sig_bytes_and_type5 = sig5.encode() + b'\\x01' # DER signature + SIGNHASH_ALL\n",
    "pubkey_bytes = PublicKey.from_point(public_key_adj).encode(compressed=True, hash160=False)\n",
    "script_sig5 = Script([sig_bytes_and_type5, pubkey_bytes])\n",
    "tx_in5.script_sig = script_sig5\n",
    "\n",
    "message6 = tx.encode(sig_index = 0)\n",
    "random.seed(int.from_bytes(sha256(message6), 'big'))\n",
    "sig6 = sign(secret_key_adj, message6) # Andrej's third address signs\n",
    "sig_bytes_and_type6 = sig6.encode() + b'\\x01' # DER signature + SIGNHASH_ALL\n",
    "pubkey_bytes = PublicKey.from_point(public_key_adj).encode(compressed=True, hash160=False)\n",
    "script_sig6 = Script([sig_bytes_and_type6, pubkey_bytes])\n",
    "tx_in6.script_sig = script_sig6\n",
    "\n",
    "message7 = tx.encode(sig_index = 0)\n",
    "random.seed(int.from_bytes(sha256(message7), 'big'))\n",
    "sig7 = sign(secret_key_adj, message7) # Andrej's third address signs\n",
    "sig_bytes_and_type7 = sig7.encode() + b'\\x01' # DER signature + SIGNHASH_ALL\n",
    "pubkey_bytes = PublicKey.from_point(public_key_adj).encode(compressed=True, hash160=False)\n",
    "script_sig7 = Script([sig_bytes_and_type7, pubkey_bytes])\n",
    "tx_in7.script_sig = script_sig7\n",
    "\n",
    "message8 = tx.encode(sig_index = 0)\n",
    "random.seed(int.from_bytes(sha256(message8), 'big'))\n",
    "sig8 = sign(secret_key_adj, message8) # Andrej's third address signs\n",
    "sig_bytes_and_type8 = sig8.encode() + b'\\x01' # DER signature + SIGNHASH_ALL\n",
    "pubkey_bytes = PublicKey.from_point(public_key_adj).encode(compressed=True, hash160=False)\n",
    "script_sig8 = Script([sig_bytes_and_type8, pubkey_bytes])\n",
    "tx_in8.script_sig = script_sig8\n",
    "\n",
    "message9 = tx.encode(sig_index = 0)\n",
    "random.seed(int.from_bytes(sha256(message9), 'big'))\n",
    "sig9 = sign(secret_key_adj, message9) # Andrej's third address signs\n",
    "sig_bytes_and_type9 = sig9.encode() + b'\\x01' # DER signature + SIGNHASH_ALL\n",
    "pubkey_bytes = PublicKey.from_point(public_key_adj).encode(compressed=True, hash160=False)\n",
    "script_sig9 = Script([sig_bytes_and_type9, pubkey_bytes])\n",
    "tx_in9.script_sig = script_sig9\n",
    "\n",
    "message10 = tx.encode(sig_index = 0)\n",
    "random.seed(int.from_bytes(sha256(message10), 'big'))\n",
    "sig10 = sign(secret_key_adj, message10) # Andrej's third address signs\n",
    "sig_bytes_and_type10 = sig10.encode() + b'\\x01' # DER signature + SIGNHASH_ALL\n",
    "pubkey_bytes = PublicKey.from_point(public_key_adj).encode(compressed=True, hash160=False)\n",
    "script_sig10 = Script([sig_bytes_and_type10, pubkey_bytes])\n",
    "tx_in10.script_sig = script_sig10\n",
    "\n",
    "message11 = tx.encode(sig_index = 0)\n",
    "random.seed(int.from_bytes(sha256(message11), 'big'))\n",
    "sig11 = sign(secret_key_adj, message11) # Andrej's third address signs\n",
    "sig_bytes_and_type11 = sig11.encode() + b'\\x01' # DER signature + SIGNHASH_ALL\n",
    "pubkey_bytes = PublicKey.from_point(public_key_adj).encode(compressed=True, hash160=False)\n",
    "script_sig11 = Script([sig_bytes_and_type11, pubkey_bytes])\n",
    "tx_in11.script_sig = script_sig11\n",
    "\n",
    "message12 = tx.encode(sig_index = 0)\n",
    "random.seed(int.from_bytes(sha256(message12), 'big'))\n",
    "sig12 = sign(secret_key_adj, message12) # Andrej's third address signs\n",
    "sig_bytes_and_type12 = sig12.encode() + b'\\x01' # DER signature + SIGNHASH_ALL\n",
    "pubkey_bytes = PublicKey.from_point(public_key_adj).encode(compressed=True, hash160=False)\n",
    "script_sig12 = Script([sig_bytes_and_type12, pubkey_bytes])\n",
    "tx_in12.script_sig = script_sig12\n",
    "\n",
    "message13 = tx.encode(sig_index = 0)\n",
    "random.seed(int.from_bytes(sha256(message13), 'big'))\n",
    "sig13 = sign(secret_key_adj, message13) # Andrej's third address signs\n",
    "sig_bytes_and_type13 = sig13.encode() + b'\\x01' # DER signature + SIGNHASH_ALL\n",
    "pubkey_bytes = PublicKey.from_point(public_key_adj).encode(compressed=True, hash160=False)\n",
    "script_sig13 = Script([sig_bytes_and_type13, pubkey_bytes])\n",
    "tx_in13.script_sig = script_sig13\n",
    "\n",
    "# that should be it!\n",
    "print(tx.id())\n",
    "print(tx)\n",
    "print('*' * 125)\n",
    "print(tx.encode().hex())"
   ]
  },
  {
   "cell_type": "markdown",
   "id": "45519aea-0f4a-4a6b-87a1-109e9f0ef02f",
   "metadata": {},
   "source": [
    "Okay, here I keep having a problem. I keep getting the error message related to signature. The error message is:\n",
    "\n",
    "`sendrawtransaction RPC error: {\"code\":-26,\"message\":\"mandatory-script-verify-flag-failed (Signature must be zero for failed CHECK(MULTI)SIG operation)\"}`\n",
    "\n",
    "I don't understand why it is not working. All of these unspent BTC belong to Andrej's third Bitcoin wallet and I have all the information, including secret key, \n",
    "public key, and address. For all messages, I am supposed to use the same secret key. But the error message is basically indicating that the signature is not valid.\n",
    "\n",
    "Another question I have after implementing this is that all those 13 transactions use the same secret key. In that case, can we simplify this process and just sign once?"
   ]
  },
  {
   "cell_type": "markdown",
   "id": "065c5590-2e19-4270-ad2d-11095050be8b",
   "metadata": {},
   "source": [
    "---\n",
    "Okay, I think I will stop here now. This has been an extremely valuable exploration. I don't know how Bitcoin actually works prior to this implementation. Now I have much much better grasp about the Bitcoin protocol. "
   ]
  },
  {
   "cell_type": "code",
   "execution_count": null,
   "id": "4bb6c126-5136-4143-9fff-bbafd194c303",
   "metadata": {},
   "outputs": [],
   "source": []
  }
 ],
 "metadata": {
  "kernelspec": {
   "display_name": "Python 3 (ipykernel)",
   "language": "python",
   "name": "python3"
  },
  "language_info": {
   "codemirror_mode": {
    "name": "ipython",
    "version": 3
   },
   "file_extension": ".py",
   "mimetype": "text/x-python",
   "name": "python",
   "nbconvert_exporter": "python",
   "pygments_lexer": "ipython3",
   "version": "3.9.7"
  }
 },
 "nbformat": 4,
 "nbformat_minor": 5
}
